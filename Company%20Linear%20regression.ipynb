{
 "cells": [
  {
   "cell_type": "code",
   "execution_count": 1,
   "metadata": {},
   "outputs": [],
   "source": [
    "import pandas as pd"
   ]
  },
  {
   "cell_type": "code",
   "execution_count": 3,
   "metadata": {},
   "outputs": [],
   "source": [
    "data=pd.read_csv(\"Downloads/company.csv\")"
   ]
  },
  {
   "cell_type": "code",
   "execution_count": 4,
   "metadata": {},
   "outputs": [
    {
     "data": {
      "text/html": [
       "<div>\n",
       "<style scoped>\n",
       "    .dataframe tbody tr th:only-of-type {\n",
       "        vertical-align: middle;\n",
       "    }\n",
       "\n",
       "    .dataframe tbody tr th {\n",
       "        vertical-align: top;\n",
       "    }\n",
       "\n",
       "    .dataframe thead th {\n",
       "        text-align: right;\n",
       "    }\n",
       "</style>\n",
       "<table border=\"1\" class=\"dataframe\">\n",
       "  <thead>\n",
       "    <tr style=\"text-align: right;\">\n",
       "      <th></th>\n",
       "      <th>Company</th>\n",
       "      <th>Age</th>\n",
       "      <th>Salary</th>\n",
       "      <th>Place</th>\n",
       "      <th>Country</th>\n",
       "    </tr>\n",
       "  </thead>\n",
       "  <tbody>\n",
       "    <tr>\n",
       "      <th>0</th>\n",
       "      <td>TCS</td>\n",
       "      <td>20.0</td>\n",
       "      <td>NaN</td>\n",
       "      <td>Chennai</td>\n",
       "      <td>India</td>\n",
       "    </tr>\n",
       "    <tr>\n",
       "      <th>1</th>\n",
       "      <td>Infosys</td>\n",
       "      <td>30.0</td>\n",
       "      <td>NaN</td>\n",
       "      <td>Mumbai</td>\n",
       "      <td>India</td>\n",
       "    </tr>\n",
       "    <tr>\n",
       "      <th>2</th>\n",
       "      <td>TCS</td>\n",
       "      <td>35.0</td>\n",
       "      <td>2300.0</td>\n",
       "      <td>Calcutta</td>\n",
       "      <td>India</td>\n",
       "    </tr>\n",
       "    <tr>\n",
       "      <th>3</th>\n",
       "      <td>Infosys</td>\n",
       "      <td>40.0</td>\n",
       "      <td>3000.0</td>\n",
       "      <td>Delhi</td>\n",
       "      <td>India</td>\n",
       "    </tr>\n",
       "    <tr>\n",
       "      <th>4</th>\n",
       "      <td>TCS</td>\n",
       "      <td>23.0</td>\n",
       "      <td>4000.0</td>\n",
       "      <td>Mumbai</td>\n",
       "      <td>India</td>\n",
       "    </tr>\n",
       "    <tr>\n",
       "      <th>...</th>\n",
       "      <td>...</td>\n",
       "      <td>...</td>\n",
       "      <td>...</td>\n",
       "      <td>...</td>\n",
       "      <td>...</td>\n",
       "    </tr>\n",
       "    <tr>\n",
       "      <th>144</th>\n",
       "      <td>Infosys</td>\n",
       "      <td>22.0</td>\n",
       "      <td>8787.0</td>\n",
       "      <td>Calcutta</td>\n",
       "      <td>India</td>\n",
       "    </tr>\n",
       "    <tr>\n",
       "      <th>145</th>\n",
       "      <td>Infosys</td>\n",
       "      <td>44.0</td>\n",
       "      <td>4034.0</td>\n",
       "      <td>Delhi</td>\n",
       "      <td>India</td>\n",
       "    </tr>\n",
       "    <tr>\n",
       "      <th>146</th>\n",
       "      <td>TCS</td>\n",
       "      <td>33.0</td>\n",
       "      <td>5034.0</td>\n",
       "      <td>Mumbai</td>\n",
       "      <td>India</td>\n",
       "    </tr>\n",
       "    <tr>\n",
       "      <th>147</th>\n",
       "      <td>Infosys</td>\n",
       "      <td>22.0</td>\n",
       "      <td>8202.0</td>\n",
       "      <td>Cochin</td>\n",
       "      <td>India</td>\n",
       "    </tr>\n",
       "    <tr>\n",
       "      <th>148</th>\n",
       "      <td>NaN</td>\n",
       "      <td>NaN</td>\n",
       "      <td>NaN</td>\n",
       "      <td>NaN</td>\n",
       "      <td>NaN</td>\n",
       "    </tr>\n",
       "  </tbody>\n",
       "</table>\n",
       "<p>149 rows × 5 columns</p>\n",
       "</div>"
      ],
      "text/plain": [
       "     Company   Age  Salary     Place Country\n",
       "0        TCS  20.0     NaN   Chennai   India\n",
       "1    Infosys  30.0     NaN    Mumbai   India\n",
       "2        TCS  35.0  2300.0  Calcutta   India\n",
       "3    Infosys  40.0  3000.0     Delhi   India\n",
       "4        TCS  23.0  4000.0    Mumbai   India\n",
       "..       ...   ...     ...       ...     ...\n",
       "144  Infosys  22.0  8787.0  Calcutta   India\n",
       "145  Infosys  44.0  4034.0     Delhi   India\n",
       "146      TCS  33.0  5034.0    Mumbai   India\n",
       "147  Infosys  22.0  8202.0    Cochin   India\n",
       "148      NaN   NaN     NaN       NaN     NaN\n",
       "\n",
       "[149 rows x 5 columns]"
      ]
     },
     "execution_count": 4,
     "metadata": {},
     "output_type": "execute_result"
    }
   ],
   "source": [
    "data"
   ]
  },
  {
   "cell_type": "code",
   "execution_count": 5,
   "metadata": {},
   "outputs": [
    {
     "data": {
      "text/html": [
       "<div>\n",
       "<style scoped>\n",
       "    .dataframe tbody tr th:only-of-type {\n",
       "        vertical-align: middle;\n",
       "    }\n",
       "\n",
       "    .dataframe tbody tr th {\n",
       "        vertical-align: top;\n",
       "    }\n",
       "\n",
       "    .dataframe thead th {\n",
       "        text-align: right;\n",
       "    }\n",
       "</style>\n",
       "<table border=\"1\" class=\"dataframe\">\n",
       "  <thead>\n",
       "    <tr style=\"text-align: right;\">\n",
       "      <th></th>\n",
       "      <th>Company</th>\n",
       "      <th>Age</th>\n",
       "      <th>Salary</th>\n",
       "      <th>Place</th>\n",
       "      <th>Country</th>\n",
       "    </tr>\n",
       "  </thead>\n",
       "  <tbody>\n",
       "    <tr>\n",
       "      <th>0</th>\n",
       "      <td>TCS</td>\n",
       "      <td>20.0</td>\n",
       "      <td>NaN</td>\n",
       "      <td>Chennai</td>\n",
       "      <td>India</td>\n",
       "    </tr>\n",
       "    <tr>\n",
       "      <th>1</th>\n",
       "      <td>Infosys</td>\n",
       "      <td>30.0</td>\n",
       "      <td>NaN</td>\n",
       "      <td>Mumbai</td>\n",
       "      <td>India</td>\n",
       "    </tr>\n",
       "    <tr>\n",
       "      <th>2</th>\n",
       "      <td>TCS</td>\n",
       "      <td>35.0</td>\n",
       "      <td>2300.0</td>\n",
       "      <td>Calcutta</td>\n",
       "      <td>India</td>\n",
       "    </tr>\n",
       "    <tr>\n",
       "      <th>3</th>\n",
       "      <td>Infosys</td>\n",
       "      <td>40.0</td>\n",
       "      <td>3000.0</td>\n",
       "      <td>Delhi</td>\n",
       "      <td>India</td>\n",
       "    </tr>\n",
       "    <tr>\n",
       "      <th>4</th>\n",
       "      <td>TCS</td>\n",
       "      <td>23.0</td>\n",
       "      <td>4000.0</td>\n",
       "      <td>Mumbai</td>\n",
       "      <td>India</td>\n",
       "    </tr>\n",
       "  </tbody>\n",
       "</table>\n",
       "</div>"
      ],
      "text/plain": [
       "   Company   Age  Salary     Place Country\n",
       "0      TCS  20.0     NaN   Chennai   India\n",
       "1  Infosys  30.0     NaN    Mumbai   India\n",
       "2      TCS  35.0  2300.0  Calcutta   India\n",
       "3  Infosys  40.0  3000.0     Delhi   India\n",
       "4      TCS  23.0  4000.0    Mumbai   India"
      ]
     },
     "execution_count": 5,
     "metadata": {},
     "output_type": "execute_result"
    }
   ],
   "source": [
    "data.head()"
   ]
  },
  {
   "cell_type": "code",
   "execution_count": 6,
   "metadata": {},
   "outputs": [
    {
     "data": {
      "text/html": [
       "<div>\n",
       "<style scoped>\n",
       "    .dataframe tbody tr th:only-of-type {\n",
       "        vertical-align: middle;\n",
       "    }\n",
       "\n",
       "    .dataframe tbody tr th {\n",
       "        vertical-align: top;\n",
       "    }\n",
       "\n",
       "    .dataframe thead th {\n",
       "        text-align: right;\n",
       "    }\n",
       "</style>\n",
       "<table border=\"1\" class=\"dataframe\">\n",
       "  <thead>\n",
       "    <tr style=\"text-align: right;\">\n",
       "      <th></th>\n",
       "      <th>Company</th>\n",
       "      <th>Age</th>\n",
       "      <th>Salary</th>\n",
       "      <th>Place</th>\n",
       "      <th>Country</th>\n",
       "    </tr>\n",
       "  </thead>\n",
       "  <tbody>\n",
       "    <tr>\n",
       "      <th>144</th>\n",
       "      <td>Infosys</td>\n",
       "      <td>22.0</td>\n",
       "      <td>8787.0</td>\n",
       "      <td>Calcutta</td>\n",
       "      <td>India</td>\n",
       "    </tr>\n",
       "    <tr>\n",
       "      <th>145</th>\n",
       "      <td>Infosys</td>\n",
       "      <td>44.0</td>\n",
       "      <td>4034.0</td>\n",
       "      <td>Delhi</td>\n",
       "      <td>India</td>\n",
       "    </tr>\n",
       "    <tr>\n",
       "      <th>146</th>\n",
       "      <td>TCS</td>\n",
       "      <td>33.0</td>\n",
       "      <td>5034.0</td>\n",
       "      <td>Mumbai</td>\n",
       "      <td>India</td>\n",
       "    </tr>\n",
       "    <tr>\n",
       "      <th>147</th>\n",
       "      <td>Infosys</td>\n",
       "      <td>22.0</td>\n",
       "      <td>8202.0</td>\n",
       "      <td>Cochin</td>\n",
       "      <td>India</td>\n",
       "    </tr>\n",
       "    <tr>\n",
       "      <th>148</th>\n",
       "      <td>NaN</td>\n",
       "      <td>NaN</td>\n",
       "      <td>NaN</td>\n",
       "      <td>NaN</td>\n",
       "      <td>NaN</td>\n",
       "    </tr>\n",
       "  </tbody>\n",
       "</table>\n",
       "</div>"
      ],
      "text/plain": [
       "     Company   Age  Salary     Place Country\n",
       "144  Infosys  22.0  8787.0  Calcutta   India\n",
       "145  Infosys  44.0  4034.0     Delhi   India\n",
       "146      TCS  33.0  5034.0    Mumbai   India\n",
       "147  Infosys  22.0  8202.0    Cochin   India\n",
       "148      NaN   NaN     NaN       NaN     NaN"
      ]
     },
     "execution_count": 6,
     "metadata": {},
     "output_type": "execute_result"
    }
   ],
   "source": [
    "data.tail()"
   ]
  },
  {
   "cell_type": "code",
   "execution_count": 8,
   "metadata": {},
   "outputs": [
    {
     "data": {
      "text/plain": [
       "(149, 5)"
      ]
     },
     "execution_count": 8,
     "metadata": {},
     "output_type": "execute_result"
    }
   ],
   "source": [
    "data.shape"
   ]
  },
  {
   "cell_type": "code",
   "execution_count": 10,
   "metadata": {},
   "outputs": [
    {
     "name": "stdout",
     "output_type": "stream",
     "text": [
      "<class 'pandas.core.frame.DataFrame'>\n",
      "RangeIndex: 149 entries, 0 to 148\n",
      "Data columns (total 5 columns):\n",
      " #   Column   Non-Null Count  Dtype  \n",
      "---  ------   --------------  -----  \n",
      " 0   Company  140 non-null    object \n",
      " 1   Age      130 non-null    float64\n",
      " 2   Salary   124 non-null    float64\n",
      " 3   Place    134 non-null    object \n",
      " 4   Country  148 non-null    object \n",
      "dtypes: float64(2), object(3)\n",
      "memory usage: 5.9+ KB\n"
     ]
    }
   ],
   "source": [
    "data.info()"
   ]
  },
  {
   "cell_type": "code",
   "execution_count": 11,
   "metadata": {},
   "outputs": [
    {
     "data": {
      "text/plain": [
       "Company     object\n",
       "Age        float64\n",
       "Salary     float64\n",
       "Place       object\n",
       "Country     object\n",
       "dtype: object"
      ]
     },
     "execution_count": 11,
     "metadata": {},
     "output_type": "execute_result"
    }
   ],
   "source": [
    "data.dtypes"
   ]
  },
  {
   "cell_type": "code",
   "execution_count": 12,
   "metadata": {},
   "outputs": [
    {
     "data": {
      "text/html": [
       "<div>\n",
       "<style scoped>\n",
       "    .dataframe tbody tr th:only-of-type {\n",
       "        vertical-align: middle;\n",
       "    }\n",
       "\n",
       "    .dataframe tbody tr th {\n",
       "        vertical-align: top;\n",
       "    }\n",
       "\n",
       "    .dataframe thead th {\n",
       "        text-align: right;\n",
       "    }\n",
       "</style>\n",
       "<table border=\"1\" class=\"dataframe\">\n",
       "  <thead>\n",
       "    <tr style=\"text-align: right;\">\n",
       "      <th></th>\n",
       "      <th>Age</th>\n",
       "      <th>Salary</th>\n",
       "    </tr>\n",
       "  </thead>\n",
       "  <tbody>\n",
       "    <tr>\n",
       "      <th>count</th>\n",
       "      <td>130.000000</td>\n",
       "      <td>124.000000</td>\n",
       "    </tr>\n",
       "    <tr>\n",
       "      <th>mean</th>\n",
       "      <td>30.484615</td>\n",
       "      <td>5312.467742</td>\n",
       "    </tr>\n",
       "    <tr>\n",
       "      <th>std</th>\n",
       "      <td>11.096640</td>\n",
       "      <td>2573.764683</td>\n",
       "    </tr>\n",
       "    <tr>\n",
       "      <th>min</th>\n",
       "      <td>0.000000</td>\n",
       "      <td>1089.000000</td>\n",
       "    </tr>\n",
       "    <tr>\n",
       "      <th>25%</th>\n",
       "      <td>22.000000</td>\n",
       "      <td>3030.000000</td>\n",
       "    </tr>\n",
       "    <tr>\n",
       "      <th>50%</th>\n",
       "      <td>32.500000</td>\n",
       "      <td>5000.000000</td>\n",
       "    </tr>\n",
       "    <tr>\n",
       "      <th>75%</th>\n",
       "      <td>37.750000</td>\n",
       "      <td>8000.000000</td>\n",
       "    </tr>\n",
       "    <tr>\n",
       "      <th>max</th>\n",
       "      <td>54.000000</td>\n",
       "      <td>9876.000000</td>\n",
       "    </tr>\n",
       "  </tbody>\n",
       "</table>\n",
       "</div>"
      ],
      "text/plain": [
       "              Age       Salary\n",
       "count  130.000000   124.000000\n",
       "mean    30.484615  5312.467742\n",
       "std     11.096640  2573.764683\n",
       "min      0.000000  1089.000000\n",
       "25%     22.000000  3030.000000\n",
       "50%     32.500000  5000.000000\n",
       "75%     37.750000  8000.000000\n",
       "max     54.000000  9876.000000"
      ]
     },
     "execution_count": 12,
     "metadata": {},
     "output_type": "execute_result"
    }
   ],
   "source": [
    "data.describe()"
   ]
  },
  {
   "cell_type": "code",
   "execution_count": 13,
   "metadata": {},
   "outputs": [
    {
     "data": {
      "text/html": [
       "<div>\n",
       "<style scoped>\n",
       "    .dataframe tbody tr th:only-of-type {\n",
       "        vertical-align: middle;\n",
       "    }\n",
       "\n",
       "    .dataframe tbody tr th {\n",
       "        vertical-align: top;\n",
       "    }\n",
       "\n",
       "    .dataframe thead th {\n",
       "        text-align: right;\n",
       "    }\n",
       "</style>\n",
       "<table border=\"1\" class=\"dataframe\">\n",
       "  <thead>\n",
       "    <tr style=\"text-align: right;\">\n",
       "      <th></th>\n",
       "      <th>Company</th>\n",
       "      <th>Age</th>\n",
       "      <th>Salary</th>\n",
       "      <th>Place</th>\n",
       "      <th>Country</th>\n",
       "    </tr>\n",
       "  </thead>\n",
       "  <tbody>\n",
       "    <tr>\n",
       "      <th>count</th>\n",
       "      <td>140</td>\n",
       "      <td>130.000000</td>\n",
       "      <td>124.000000</td>\n",
       "      <td>134</td>\n",
       "      <td>148</td>\n",
       "    </tr>\n",
       "    <tr>\n",
       "      <th>unique</th>\n",
       "      <td>6</td>\n",
       "      <td>NaN</td>\n",
       "      <td>NaN</td>\n",
       "      <td>11</td>\n",
       "      <td>1</td>\n",
       "    </tr>\n",
       "    <tr>\n",
       "      <th>top</th>\n",
       "      <td>TCS</td>\n",
       "      <td>NaN</td>\n",
       "      <td>NaN</td>\n",
       "      <td>Mumbai</td>\n",
       "      <td>India</td>\n",
       "    </tr>\n",
       "    <tr>\n",
       "      <th>freq</th>\n",
       "      <td>53</td>\n",
       "      <td>NaN</td>\n",
       "      <td>NaN</td>\n",
       "      <td>37</td>\n",
       "      <td>148</td>\n",
       "    </tr>\n",
       "    <tr>\n",
       "      <th>mean</th>\n",
       "      <td>NaN</td>\n",
       "      <td>30.484615</td>\n",
       "      <td>5312.467742</td>\n",
       "      <td>NaN</td>\n",
       "      <td>NaN</td>\n",
       "    </tr>\n",
       "    <tr>\n",
       "      <th>std</th>\n",
       "      <td>NaN</td>\n",
       "      <td>11.096640</td>\n",
       "      <td>2573.764683</td>\n",
       "      <td>NaN</td>\n",
       "      <td>NaN</td>\n",
       "    </tr>\n",
       "    <tr>\n",
       "      <th>min</th>\n",
       "      <td>NaN</td>\n",
       "      <td>0.000000</td>\n",
       "      <td>1089.000000</td>\n",
       "      <td>NaN</td>\n",
       "      <td>NaN</td>\n",
       "    </tr>\n",
       "    <tr>\n",
       "      <th>25%</th>\n",
       "      <td>NaN</td>\n",
       "      <td>22.000000</td>\n",
       "      <td>3030.000000</td>\n",
       "      <td>NaN</td>\n",
       "      <td>NaN</td>\n",
       "    </tr>\n",
       "    <tr>\n",
       "      <th>50%</th>\n",
       "      <td>NaN</td>\n",
       "      <td>32.500000</td>\n",
       "      <td>5000.000000</td>\n",
       "      <td>NaN</td>\n",
       "      <td>NaN</td>\n",
       "    </tr>\n",
       "    <tr>\n",
       "      <th>75%</th>\n",
       "      <td>NaN</td>\n",
       "      <td>37.750000</td>\n",
       "      <td>8000.000000</td>\n",
       "      <td>NaN</td>\n",
       "      <td>NaN</td>\n",
       "    </tr>\n",
       "    <tr>\n",
       "      <th>max</th>\n",
       "      <td>NaN</td>\n",
       "      <td>54.000000</td>\n",
       "      <td>9876.000000</td>\n",
       "      <td>NaN</td>\n",
       "      <td>NaN</td>\n",
       "    </tr>\n",
       "  </tbody>\n",
       "</table>\n",
       "</div>"
      ],
      "text/plain": [
       "       Company         Age       Salary   Place Country\n",
       "count      140  130.000000   124.000000     134     148\n",
       "unique       6         NaN          NaN      11       1\n",
       "top        TCS         NaN          NaN  Mumbai   India\n",
       "freq        53         NaN          NaN      37     148\n",
       "mean       NaN   30.484615  5312.467742     NaN     NaN\n",
       "std        NaN   11.096640  2573.764683     NaN     NaN\n",
       "min        NaN    0.000000  1089.000000     NaN     NaN\n",
       "25%        NaN   22.000000  3030.000000     NaN     NaN\n",
       "50%        NaN   32.500000  5000.000000     NaN     NaN\n",
       "75%        NaN   37.750000  8000.000000     NaN     NaN\n",
       "max        NaN   54.000000  9876.000000     NaN     NaN"
      ]
     },
     "execution_count": 13,
     "metadata": {},
     "output_type": "execute_result"
    }
   ],
   "source": [
    "data.describe(include=\"all\")"
   ]
  },
  {
   "cell_type": "code",
   "execution_count": 14,
   "metadata": {},
   "outputs": [],
   "source": [
    "data.rename(columns={\"Company\":\"Organization\"}, inplace = True)"
   ]
  },
  {
   "cell_type": "code",
   "execution_count": 15,
   "metadata": {},
   "outputs": [
    {
     "data": {
      "text/html": [
       "<div>\n",
       "<style scoped>\n",
       "    .dataframe tbody tr th:only-of-type {\n",
       "        vertical-align: middle;\n",
       "    }\n",
       "\n",
       "    .dataframe tbody tr th {\n",
       "        vertical-align: top;\n",
       "    }\n",
       "\n",
       "    .dataframe thead th {\n",
       "        text-align: right;\n",
       "    }\n",
       "</style>\n",
       "<table border=\"1\" class=\"dataframe\">\n",
       "  <thead>\n",
       "    <tr style=\"text-align: right;\">\n",
       "      <th></th>\n",
       "      <th>Organization</th>\n",
       "      <th>Age</th>\n",
       "      <th>Salary</th>\n",
       "      <th>Place</th>\n",
       "      <th>Country</th>\n",
       "    </tr>\n",
       "  </thead>\n",
       "  <tbody>\n",
       "    <tr>\n",
       "      <th>0</th>\n",
       "      <td>TCS</td>\n",
       "      <td>20.0</td>\n",
       "      <td>NaN</td>\n",
       "      <td>Chennai</td>\n",
       "      <td>India</td>\n",
       "    </tr>\n",
       "    <tr>\n",
       "      <th>1</th>\n",
       "      <td>Infosys</td>\n",
       "      <td>30.0</td>\n",
       "      <td>NaN</td>\n",
       "      <td>Mumbai</td>\n",
       "      <td>India</td>\n",
       "    </tr>\n",
       "    <tr>\n",
       "      <th>2</th>\n",
       "      <td>TCS</td>\n",
       "      <td>35.0</td>\n",
       "      <td>2300.0</td>\n",
       "      <td>Calcutta</td>\n",
       "      <td>India</td>\n",
       "    </tr>\n",
       "    <tr>\n",
       "      <th>3</th>\n",
       "      <td>Infosys</td>\n",
       "      <td>40.0</td>\n",
       "      <td>3000.0</td>\n",
       "      <td>Delhi</td>\n",
       "      <td>India</td>\n",
       "    </tr>\n",
       "    <tr>\n",
       "      <th>4</th>\n",
       "      <td>TCS</td>\n",
       "      <td>23.0</td>\n",
       "      <td>4000.0</td>\n",
       "      <td>Mumbai</td>\n",
       "      <td>India</td>\n",
       "    </tr>\n",
       "    <tr>\n",
       "      <th>...</th>\n",
       "      <td>...</td>\n",
       "      <td>...</td>\n",
       "      <td>...</td>\n",
       "      <td>...</td>\n",
       "      <td>...</td>\n",
       "    </tr>\n",
       "    <tr>\n",
       "      <th>144</th>\n",
       "      <td>Infosys</td>\n",
       "      <td>22.0</td>\n",
       "      <td>8787.0</td>\n",
       "      <td>Calcutta</td>\n",
       "      <td>India</td>\n",
       "    </tr>\n",
       "    <tr>\n",
       "      <th>145</th>\n",
       "      <td>Infosys</td>\n",
       "      <td>44.0</td>\n",
       "      <td>4034.0</td>\n",
       "      <td>Delhi</td>\n",
       "      <td>India</td>\n",
       "    </tr>\n",
       "    <tr>\n",
       "      <th>146</th>\n",
       "      <td>TCS</td>\n",
       "      <td>33.0</td>\n",
       "      <td>5034.0</td>\n",
       "      <td>Mumbai</td>\n",
       "      <td>India</td>\n",
       "    </tr>\n",
       "    <tr>\n",
       "      <th>147</th>\n",
       "      <td>Infosys</td>\n",
       "      <td>22.0</td>\n",
       "      <td>8202.0</td>\n",
       "      <td>Cochin</td>\n",
       "      <td>India</td>\n",
       "    </tr>\n",
       "    <tr>\n",
       "      <th>148</th>\n",
       "      <td>NaN</td>\n",
       "      <td>NaN</td>\n",
       "      <td>NaN</td>\n",
       "      <td>NaN</td>\n",
       "      <td>NaN</td>\n",
       "    </tr>\n",
       "  </tbody>\n",
       "</table>\n",
       "<p>149 rows × 5 columns</p>\n",
       "</div>"
      ],
      "text/plain": [
       "    Organization   Age  Salary     Place Country\n",
       "0            TCS  20.0     NaN   Chennai   India\n",
       "1        Infosys  30.0     NaN    Mumbai   India\n",
       "2            TCS  35.0  2300.0  Calcutta   India\n",
       "3        Infosys  40.0  3000.0     Delhi   India\n",
       "4            TCS  23.0  4000.0    Mumbai   India\n",
       "..           ...   ...     ...       ...     ...\n",
       "144      Infosys  22.0  8787.0  Calcutta   India\n",
       "145      Infosys  44.0  4034.0     Delhi   India\n",
       "146          TCS  33.0  5034.0    Mumbai   India\n",
       "147      Infosys  22.0  8202.0    Cochin   India\n",
       "148          NaN   NaN     NaN       NaN     NaN\n",
       "\n",
       "[149 rows x 5 columns]"
      ]
     },
     "execution_count": 15,
     "metadata": {},
     "output_type": "execute_result"
    }
   ],
   "source": [
    "data"
   ]
  },
  {
   "cell_type": "code",
   "execution_count": 16,
   "metadata": {},
   "outputs": [
    {
     "data": {
      "text/plain": [
       "array(['TCS', 'Infosys', 'CTS', nan, 'Tata Consultancy Services',\n",
       "       'Congnizant', 'Infosys Pvt Lmt'], dtype=object)"
      ]
     },
     "execution_count": 16,
     "metadata": {},
     "output_type": "execute_result"
    }
   ],
   "source": [
    "data[\"Organization\"].unique()"
   ]
  },
  {
   "cell_type": "code",
   "execution_count": 17,
   "metadata": {},
   "outputs": [
    {
     "data": {
      "text/plain": [
       "TCS                          53\n",
       "Infosys                      45\n",
       "CTS                          36\n",
       "Infosys Pvt Lmt               2\n",
       "Tata Consultancy Services     2\n",
       "Congnizant                    2\n",
       "Name: Organization, dtype: int64"
      ]
     },
     "execution_count": 17,
     "metadata": {},
     "output_type": "execute_result"
    }
   ],
   "source": [
    "data[\"Organization\"].value_counts()"
   ]
  },
  {
   "cell_type": "code",
   "execution_count": 18,
   "metadata": {},
   "outputs": [
    {
     "data": {
      "text/plain": [
       "Index(['Organization', 'Age', 'Salary', 'Place', 'Country'], dtype='object')"
      ]
     },
     "execution_count": 18,
     "metadata": {},
     "output_type": "execute_result"
    }
   ],
   "source": [
    "data.columns"
   ]
  },
  {
   "cell_type": "code",
   "execution_count": 19,
   "metadata": {},
   "outputs": [
    {
     "name": "stdout",
     "output_type": "stream",
     "text": [
      "TCS                          53\n",
      "Infosys                      45\n",
      "CTS                          36\n",
      "Infosys Pvt Lmt               2\n",
      "Tata Consultancy Services     2\n",
      "Congnizant                    2\n",
      "Name: Organization, dtype: int64\n",
      "22.0    16\n",
      "33.0    13\n",
      "44.0    10\n",
      "21.0     8\n",
      "23.0     8\n",
      "34.0     8\n",
      "32.0     7\n",
      "35.0     6\n",
      "0.0      6\n",
      "41.0     5\n",
      "43.0     4\n",
      "24.0     4\n",
      "45.0     4\n",
      "25.0     3\n",
      "36.0     3\n",
      "40.0     3\n",
      "31.0     3\n",
      "20.0     3\n",
      "30.0     2\n",
      "26.0     2\n",
      "37.0     2\n",
      "46.0     2\n",
      "50.0     2\n",
      "18.0     1\n",
      "17.0     1\n",
      "38.0     1\n",
      "19.0     1\n",
      "51.0     1\n",
      "54.0     1\n",
      "Name: Age, dtype: int64\n",
      "3000.0    9\n",
      "5000.0    6\n",
      "4034.0    5\n",
      "8202.0    5\n",
      "5034.0    5\n",
      "3184.0    4\n",
      "7084.0    4\n",
      "8787.0    4\n",
      "1234.0    4\n",
      "3045.0    4\n",
      "5835.0    4\n",
      "9024.0    4\n",
      "8943.0    4\n",
      "9284.0    4\n",
      "2034.0    4\n",
      "4824.0    4\n",
      "2934.0    4\n",
      "1089.0    4\n",
      "2300.0    4\n",
      "8345.0    4\n",
      "7000.0    3\n",
      "3030.0    3\n",
      "8000.0    3\n",
      "9000.0    3\n",
      "6000.0    3\n",
      "4000.0    2\n",
      "9876.0    2\n",
      "3234.0    2\n",
      "7654.0    2\n",
      "5435.0    1\n",
      "4345.0    1\n",
      "3033.0    1\n",
      "5654.0    1\n",
      "5098.0    1\n",
      "3454.0    1\n",
      "6543.0    1\n",
      "6544.0    1\n",
      "5555.0    1\n",
      "4324.0    1\n",
      "5009.0    1\n",
      "Name: Salary, dtype: int64\n",
      "Mumbai        37\n",
      "Calcutta      33\n",
      "Delhi         14\n",
      "Chennai       14\n",
      "Cochin        13\n",
      "Hyderabad      8\n",
      "Noida          8\n",
      "Podicherry     3\n",
      "Pune           2\n",
      "Nagpur         1\n",
      "Bhopal         1\n",
      "Name: Place, dtype: int64\n",
      "India    148\n",
      "Name: Country, dtype: int64\n"
     ]
    },
    {
     "data": {
      "text/plain": [
       "Organization    None\n",
       "Age             None\n",
       "Salary          None\n",
       "Place           None\n",
       "Country         None\n",
       "dtype: object"
      ]
     },
     "execution_count": 19,
     "metadata": {},
     "output_type": "execute_result"
    }
   ],
   "source": [
    "data.apply(lambda x : print(x.value_counts()) )"
   ]
  },
  {
   "cell_type": "code",
   "execution_count": 20,
   "metadata": {},
   "outputs": [],
   "source": [
    "data[\"Organization\"].replace({'Tata Consultancy Services':'TCS', 'Infosys Pvt Lmt':'Infosys','Congnizant':'CTS'}, inplace= True)"
   ]
  },
  {
   "cell_type": "code",
   "execution_count": 21,
   "metadata": {},
   "outputs": [
    {
     "data": {
      "text/plain": [
       "TCS        55\n",
       "Infosys    47\n",
       "CTS        38\n",
       "Name: Organization, dtype: int64"
      ]
     },
     "execution_count": 21,
     "metadata": {},
     "output_type": "execute_result"
    }
   ],
   "source": [
    "data[\"Organization\"].value_counts()"
   ]
  },
  {
   "cell_type": "code",
   "execution_count": 24,
   "metadata": {},
   "outputs": [
    {
     "data": {
      "text/plain": [
       "<bound method DataFrame.isna of     Organization   Age  Salary     Place Country\n",
       "0            TCS  20.0     NaN   Chennai   India\n",
       "1        Infosys  30.0     NaN    Mumbai   India\n",
       "2            TCS  35.0  2300.0  Calcutta   India\n",
       "3        Infosys  40.0  3000.0     Delhi   India\n",
       "4            TCS  23.0  4000.0    Mumbai   India\n",
       "..           ...   ...     ...       ...     ...\n",
       "144      Infosys  22.0  8787.0  Calcutta   India\n",
       "145      Infosys  44.0  4034.0     Delhi   India\n",
       "146          TCS  33.0  5034.0    Mumbai   India\n",
       "147      Infosys  22.0  8202.0    Cochin   India\n",
       "148          NaN   NaN     NaN       NaN     NaN\n",
       "\n",
       "[149 rows x 5 columns]>"
      ]
     },
     "execution_count": 24,
     "metadata": {},
     "output_type": "execute_result"
    }
   ],
   "source": [
    "data.isna"
   ]
  },
  {
   "cell_type": "code",
   "execution_count": 25,
   "metadata": {},
   "outputs": [
    {
     "data": {
      "text/plain": [
       "8"
      ]
     },
     "execution_count": 25,
     "metadata": {},
     "output_type": "execute_result"
    }
   ],
   "source": [
    "data.duplicated().sum()"
   ]
  },
  {
   "cell_type": "code",
   "execution_count": 26,
   "metadata": {},
   "outputs": [
    {
     "data": {
      "text/html": [
       "<div>\n",
       "<style scoped>\n",
       "    .dataframe tbody tr th:only-of-type {\n",
       "        vertical-align: middle;\n",
       "    }\n",
       "\n",
       "    .dataframe tbody tr th {\n",
       "        vertical-align: top;\n",
       "    }\n",
       "\n",
       "    .dataframe thead th {\n",
       "        text-align: right;\n",
       "    }\n",
       "</style>\n",
       "<table border=\"1\" class=\"dataframe\">\n",
       "  <thead>\n",
       "    <tr style=\"text-align: right;\">\n",
       "      <th></th>\n",
       "      <th>Organization</th>\n",
       "      <th>Age</th>\n",
       "      <th>Salary</th>\n",
       "      <th>Place</th>\n",
       "      <th>Country</th>\n",
       "    </tr>\n",
       "  </thead>\n",
       "  <tbody>\n",
       "    <tr>\n",
       "      <th>84</th>\n",
       "      <td>CTS</td>\n",
       "      <td>43.0</td>\n",
       "      <td>NaN</td>\n",
       "      <td>Mumbai</td>\n",
       "      <td>India</td>\n",
       "    </tr>\n",
       "    <tr>\n",
       "      <th>124</th>\n",
       "      <td>Infosys</td>\n",
       "      <td>22.0</td>\n",
       "      <td>8787.0</td>\n",
       "      <td>Calcutta</td>\n",
       "      <td>India</td>\n",
       "    </tr>\n",
       "    <tr>\n",
       "      <th>130</th>\n",
       "      <td>TCS</td>\n",
       "      <td>21.0</td>\n",
       "      <td>4824.0</td>\n",
       "      <td>Mumbai</td>\n",
       "      <td>India</td>\n",
       "    </tr>\n",
       "    <tr>\n",
       "      <th>131</th>\n",
       "      <td>Infosys</td>\n",
       "      <td>NaN</td>\n",
       "      <td>5835.0</td>\n",
       "      <td>Mumbai</td>\n",
       "      <td>India</td>\n",
       "    </tr>\n",
       "    <tr>\n",
       "      <th>144</th>\n",
       "      <td>Infosys</td>\n",
       "      <td>22.0</td>\n",
       "      <td>8787.0</td>\n",
       "      <td>Calcutta</td>\n",
       "      <td>India</td>\n",
       "    </tr>\n",
       "    <tr>\n",
       "      <th>145</th>\n",
       "      <td>Infosys</td>\n",
       "      <td>44.0</td>\n",
       "      <td>4034.0</td>\n",
       "      <td>Delhi</td>\n",
       "      <td>India</td>\n",
       "    </tr>\n",
       "    <tr>\n",
       "      <th>146</th>\n",
       "      <td>TCS</td>\n",
       "      <td>33.0</td>\n",
       "      <td>5034.0</td>\n",
       "      <td>Mumbai</td>\n",
       "      <td>India</td>\n",
       "    </tr>\n",
       "    <tr>\n",
       "      <th>147</th>\n",
       "      <td>Infosys</td>\n",
       "      <td>22.0</td>\n",
       "      <td>8202.0</td>\n",
       "      <td>Cochin</td>\n",
       "      <td>India</td>\n",
       "    </tr>\n",
       "  </tbody>\n",
       "</table>\n",
       "</div>"
      ],
      "text/plain": [
       "    Organization   Age  Salary     Place Country\n",
       "84           CTS  43.0     NaN    Mumbai   India\n",
       "124      Infosys  22.0  8787.0  Calcutta   India\n",
       "130          TCS  21.0  4824.0    Mumbai   India\n",
       "131      Infosys   NaN  5835.0    Mumbai   India\n",
       "144      Infosys  22.0  8787.0  Calcutta   India\n",
       "145      Infosys  44.0  4034.0     Delhi   India\n",
       "146          TCS  33.0  5034.0    Mumbai   India\n",
       "147      Infosys  22.0  8202.0    Cochin   India"
      ]
     },
     "execution_count": 26,
     "metadata": {},
     "output_type": "execute_result"
    }
   ],
   "source": [
    "data[data.duplicated()]"
   ]
  },
  {
   "cell_type": "code",
   "execution_count": 27,
   "metadata": {},
   "outputs": [],
   "source": [
    "data.drop_duplicates(inplace = True)"
   ]
  },
  {
   "cell_type": "code",
   "execution_count": 28,
   "metadata": {},
   "outputs": [
    {
     "data": {
      "text/plain": [
       "(141, 5)"
      ]
     },
     "execution_count": 28,
     "metadata": {},
     "output_type": "execute_result"
    }
   ],
   "source": [
    "data.shape"
   ]
  },
  {
   "cell_type": "code",
   "execution_count": 32,
   "metadata": {},
   "outputs": [
    {
     "data": {
      "text/plain": [
       "9"
      ]
     },
     "execution_count": 32,
     "metadata": {},
     "output_type": "execute_result"
    }
   ],
   "source": [
    "data[\"Organization\"].isna().sum()"
   ]
  },
  {
   "cell_type": "code",
   "execution_count": 33,
   "metadata": {},
   "outputs": [],
   "source": [
    "data.dropna(subset=[\"Organization\"], inplace = True)"
   ]
  },
  {
   "cell_type": "code",
   "execution_count": 34,
   "metadata": {},
   "outputs": [
    {
     "data": {
      "text/plain": [
       "15"
      ]
     },
     "execution_count": 34,
     "metadata": {},
     "output_type": "execute_result"
    }
   ],
   "source": [
    "data[\"Age\"].isna().sum()"
   ]
  },
  {
   "cell_type": "code",
   "execution_count": 36,
   "metadata": {},
   "outputs": [
    {
     "data": {
      "text/plain": [
       "33.0"
      ]
     },
     "execution_count": 36,
     "metadata": {},
     "output_type": "execute_result"
    }
   ],
   "source": [
    "data[\"Age\"].median()"
   ]
  },
  {
   "cell_type": "code",
   "execution_count": 35,
   "metadata": {},
   "outputs": [],
   "source": [
    "data[\"Age\"].fillna(data[\"Age\"].median(), inplace = True)"
   ]
  },
  {
   "cell_type": "code",
   "execution_count": 37,
   "metadata": {},
   "outputs": [
    {
     "data": {
      "text/plain": [
       "20"
      ]
     },
     "execution_count": 37,
     "metadata": {},
     "output_type": "execute_result"
    }
   ],
   "source": [
    "data[\"Salary\"].isna().sum()"
   ]
  },
  {
   "cell_type": "code",
   "execution_count": 38,
   "metadata": {},
   "outputs": [],
   "source": [
    "data.dropna(subset=[\"Salary\"], inplace = True)"
   ]
  },
  {
   "cell_type": "code",
   "execution_count": 39,
   "metadata": {},
   "outputs": [
    {
     "data": {
      "text/plain": [
       "12"
      ]
     },
     "execution_count": 39,
     "metadata": {},
     "output_type": "execute_result"
    }
   ],
   "source": [
    "data[\"Place\"].isna().sum()"
   ]
  },
  {
   "cell_type": "code",
   "execution_count": 40,
   "metadata": {},
   "outputs": [],
   "source": [
    "data.dropna(subset=[\"Place\"], inplace = True)"
   ]
  },
  {
   "cell_type": "code",
   "execution_count": 41,
   "metadata": {},
   "outputs": [
    {
     "data": {
      "text/plain": [
       "(100, 5)"
      ]
     },
     "execution_count": 41,
     "metadata": {},
     "output_type": "execute_result"
    }
   ],
   "source": [
    "data.shape"
   ]
  },
  {
   "cell_type": "code",
   "execution_count": 42,
   "metadata": {},
   "outputs": [],
   "source": [
    "import matplotlib\n",
    "%matplotlib inline"
   ]
  },
  {
   "cell_type": "code",
   "execution_count": 43,
   "metadata": {},
   "outputs": [
    {
     "data": {
      "text/plain": [
       "<matplotlib.axes._subplots.AxesSubplot at 0x1ed2cc78190>"
      ]
     },
     "execution_count": 43,
     "metadata": {},
     "output_type": "execute_result"
    },
    {
     "data": {
      "image/png": "[encoded data removed]",
      "text/plain": [
       "<Figure size 432x288 with 1 Axes>"
      ]
     },
     "metadata": {
      "needs_background": "light"
     },
     "output_type": "display_data"
    }
   ],
   "source": [
    "data[\"Salary\"].plot(kind = \"hist\")"
   ]
  },
  {
   "cell_type": "code",
   "execution_count": 44,
   "metadata": {},
   "outputs": [],
   "source": [
    "X = data[[\"Age\"]]\n",
    "y = data[\"Salary\"]"
   ]
  },
  {
   "cell_type": "code",
   "execution_count": 45,
   "metadata": {},
   "outputs": [],
   "source": [
    "from sklearn.model_selection import train_test_split"
   ]
  },
  {
   "cell_type": "code",
   "execution_count": 46,
   "metadata": {},
   "outputs": [],
   "source": [
    "train_X, test_X, train_y, test_y = train_test_split(X, y, test_size = 0.3, random_state = 5)"
   ]
  },
  {
   "cell_type": "code",
   "execution_count": 47,
   "metadata": {},
   "outputs": [
    {
     "data": {
      "text/html": [
       "<div>\n",
       "<style scoped>\n",
       "    .dataframe tbody tr th:only-of-type {\n",
       "        vertical-align: middle;\n",
       "    }\n",
       "\n",
       "    .dataframe tbody tr th {\n",
       "        vertical-align: top;\n",
       "    }\n",
       "\n",
       "    .dataframe thead th {\n",
       "        text-align: right;\n",
       "    }\n",
       "</style>\n",
       "<table border=\"1\" class=\"dataframe\">\n",
       "  <thead>\n",
       "    <tr style=\"text-align: right;\">\n",
       "      <th></th>\n",
       "      <th>Age</th>\n",
       "    </tr>\n",
       "  </thead>\n",
       "  <tbody>\n",
       "    <tr>\n",
       "      <th>8</th>\n",
       "      <td>34.0</td>\n",
       "    </tr>\n",
       "    <tr>\n",
       "      <th>128</th>\n",
       "      <td>33.0</td>\n",
       "    </tr>\n",
       "    <tr>\n",
       "      <th>92</th>\n",
       "      <td>0.0</td>\n",
       "    </tr>\n",
       "    <tr>\n",
       "      <th>32</th>\n",
       "      <td>45.0</td>\n",
       "    </tr>\n",
       "    <tr>\n",
       "      <th>70</th>\n",
       "      <td>21.0</td>\n",
       "    </tr>\n",
       "    <tr>\n",
       "      <th>...</th>\n",
       "      <td>...</td>\n",
       "    </tr>\n",
       "    <tr>\n",
       "      <th>103</th>\n",
       "      <td>22.0</td>\n",
       "    </tr>\n",
       "    <tr>\n",
       "      <th>22</th>\n",
       "      <td>21.0</td>\n",
       "    </tr>\n",
       "    <tr>\n",
       "      <th>87</th>\n",
       "      <td>21.0</td>\n",
       "    </tr>\n",
       "    <tr>\n",
       "      <th>110</th>\n",
       "      <td>33.0</td>\n",
       "    </tr>\n",
       "    <tr>\n",
       "      <th>143</th>\n",
       "      <td>33.0</td>\n",
       "    </tr>\n",
       "  </tbody>\n",
       "</table>\n",
       "<p>70 rows × 1 columns</p>\n",
       "</div>"
      ],
      "text/plain": [
       "      Age\n",
       "8    34.0\n",
       "128  33.0\n",
       "92    0.0\n",
       "32   45.0\n",
       "70   21.0\n",
       "..    ...\n",
       "103  22.0\n",
       "22   21.0\n",
       "87   21.0\n",
       "110  33.0\n",
       "143  33.0\n",
       "\n",
       "[70 rows x 1 columns]"
      ]
     },
     "execution_count": 47,
     "metadata": {},
     "output_type": "execute_result"
    }
   ],
   "source": [
    "train_X"
   ]
  },
  {
   "cell_type": "code",
   "execution_count": 48,
   "metadata": {},
   "outputs": [
    {
     "data": {
      "text/plain": [
       "(100, 5)"
      ]
     },
     "execution_count": 48,
     "metadata": {},
     "output_type": "execute_result"
    }
   ],
   "source": [
    "data.shape"
   ]
  },
  {
   "cell_type": "code",
   "execution_count": 49,
   "metadata": {},
   "outputs": [
    {
     "data": {
      "text/plain": [
       "((70, 1), (30, 1), (70,), (30,))"
      ]
     },
     "execution_count": 49,
     "metadata": {},
     "output_type": "execute_result"
    }
   ],
   "source": [
    "train_X.shape, test_X.shape, train_y.shape, test_y.shape"
   ]
  },
  {
   "cell_type": "code",
   "execution_count": 50,
   "metadata": {},
   "outputs": [],
   "source": [
    "import seaborn as sns"
   ]
  },
  {
   "cell_type": "code",
   "execution_count": 51,
   "metadata": {},
   "outputs": [
    {
     "data": {
      "text/plain": [
       "<matplotlib.axes._subplots.AxesSubplot at 0x1ed2f6bab20>"
      ]
     },
     "execution_count": 51,
     "metadata": {},
     "output_type": "execute_result"
    },
    {
     "data": {
      "image/png": "[encoded data removed]",
      "text/plain": [
       "<Figure size 432x288 with 1 Axes>"
      ]
     },
     "metadata": {
      "needs_background": "light"
     },
     "output_type": "display_data"
    }
   ],
   "source": [
    "data.plot(kind = \"scatter\", x = \"Age\", y = \"Salary\")"
   ]
  },
  {
   "cell_type": "code",
   "execution_count": 52,
   "metadata": {},
   "outputs": [
    {
     "data": {
      "text/plain": [
       "Organization    0\n",
       "Age             0\n",
       "Salary          0\n",
       "Place           0\n",
       "Country         0\n",
       "dtype: int64"
      ]
     },
     "execution_count": 52,
     "metadata": {},
     "output_type": "execute_result"
    }
   ],
   "source": [
    "data.isna().sum()"
   ]
  },
  {
   "cell_type": "code",
   "execution_count": 53,
   "metadata": {},
   "outputs": [],
   "source": [
    "from sklearn.linear_model import LinearRegression"
   ]
  },
  {
   "cell_type": "code",
   "execution_count": 54,
   "metadata": {},
   "outputs": [
    {
     "data": {
      "text/plain": [
       "LinearRegression()"
      ]
     },
     "execution_count": 54,
     "metadata": {},
     "output_type": "execute_result"
    }
   ],
   "source": [
    "model = LinearRegression()\n",
    "model.fit(train_X, train_y)"
   ]
  },
  {
   "cell_type": "code",
   "execution_count": 55,
   "metadata": {},
   "outputs": [
    {
     "data": {
      "text/plain": [
       "3845.2295556299223"
      ]
     },
     "execution_count": 55,
     "metadata": {},
     "output_type": "execute_result"
    }
   ],
   "source": [
    "model.intercept_"
   ]
  },
  {
   "cell_type": "code",
   "execution_count": 56,
   "metadata": {},
   "outputs": [
    {
     "data": {
      "text/plain": [
       "array([33.24298437])"
      ]
     },
     "execution_count": 56,
     "metadata": {},
     "output_type": "execute_result"
    }
   ],
   "source": [
    "model.coef_"
   ]
  },
  {
   "cell_type": "code",
   "execution_count": 57,
   "metadata": {},
   "outputs": [
    {
     "data": {
      "text/plain": [
       "<matplotlib.axes._subplots.AxesSubplot at 0x1ed2f8a1250>"
      ]
     },
     "execution_count": 57,
     "metadata": {},
     "output_type": "execute_result"
    },
    {
     "data": {
      "image/png": "[encoded data removed]",
      "text/plain": [
       "<Figure size 432x288 with 1 Axes>"
      ]
     },
     "metadata": {
      "needs_background": "light"
     },
     "output_type": "display_data"
    }
   ],
   "source": [
    "data.plot(kind = \"scatter\", x = \"Age\", y = \"Salary\")"
   ]
  },
  {
   "cell_type": "code",
   "execution_count": 61,
   "metadata": {},
   "outputs": [],
   "source": [
    "pred_train = model.predict(train_X)\n"
   ]
  },
  {
   "cell_type": "code",
   "execution_count": 63,
   "metadata": {},
   "outputs": [
    {
     "data": {
      "text/plain": [
       "[<matplotlib.lines.Line2D at 0x1ed2fa929a0>]"
      ]
     },
     "execution_count": 63,
     "metadata": {},
     "output_type": "execute_result"
    },
    {
     "data": {
      "image/png": "[encoded data removed]",
      "text/plain": [
       "<Figure size 432x288 with 1 Axes>"
      ]
     },
     "metadata": {
      "needs_background": "light"
     },
     "output_type": "display_data"
    }
   ],
   "source": [
    "import matplotlib.pyplot as plt\n",
    "plt.scatter(train_X,train_y, color = \"red\")\n",
    "plt.scatter(test_X,test_y, color = \"green\")\n",
    "plt.plot(train_X,pred_train, 'b' )"
   ]
  },
  {
   "cell_type": "code",
   "execution_count": 64,
   "metadata": {},
   "outputs": [],
   "source": [
    "pred_test = model.predict(test_X)"
   ]
  },
  {
   "cell_type": "code",
   "execution_count": 66,
   "metadata": {},
   "outputs": [
    {
     "name": "stdout",
     "output_type": "stream",
     "text": [
      "MSE-- Train 6462794.8947598245\n",
      "MSE-- Test 6362799.542283094\n",
      "MAE-- Train 2177.9008438288124\n",
      "MAE-- Test 2137.0547853526487\n",
      "r2_SCore -- Train 0.024713238956217465\n",
      "r2_score -- Test -0.06983299009583788\n"
     ]
    }
   ],
   "source": [
    "from sklearn.metrics import mean_squared_error, mean_absolute_error, r2_score\n",
    "print(\"MSE-- Train\",mean_squared_error(train_y, pred_train))\n",
    "print(\"MSE-- Test\",mean_squared_error(test_y, pred_test))\n",
    "print(\"MAE-- Train\",mean_absolute_error(train_y, pred_train))\n",
    "print(\"MAE-- Test\",mean_absolute_error(test_y, pred_test))\n",
    "print(\"r2_SCore -- Train\",r2_score(train_y, pred_train))\n",
    "print(\"r2_score -- Test\",r2_score(test_y, pred_test))"
   ]
  },
  {
   "cell_type": "code",
   "execution_count": 83,
   "metadata": {},
   "outputs": [],
   "source": [
    "data_Org = pd.get_dummies(data[\"Organization\"])\n",
    "data_plc = pd.get_dummies(data[\"Place\"])\n"
   ]
  },
  {
   "cell_type": "code",
   "execution_count": 100,
   "metadata": {},
   "outputs": [],
   "source": [
    "data_new = pd.concat([data_Org,data[[\"Age\",\"Salary\"]]], axis = 1)"
   ]
  },
  {
   "cell_type": "code",
   "execution_count": 101,
   "metadata": {},
   "outputs": [],
   "source": [
    "X = data_new.drop(columns=\"Salary\")\n",
    "y = data_new[\"Salary\"]"
   ]
  },
  {
   "cell_type": "code",
   "execution_count": 102,
   "metadata": {},
   "outputs": [
    {
     "data": {
      "text/plain": [
       "((70, 4), (30, 4), (70,), (30,))"
      ]
     },
     "execution_count": 102,
     "metadata": {},
     "output_type": "execute_result"
    }
   ],
   "source": [
    "\n",
    "from sklearn.model_selection import train_test_split\n",
    "\n",
    "train_X, test_X, train_y, test_y = train_test_split(X, y, test_size = 0.3, random_state = 5)\n",
    "\n",
    "\n",
    "train_X\n",
    "\n",
    "data.shape\n",
    "\n",
    "train_X.shape, test_X.shape, train_y.shape, test_y.shape"
   ]
  },
  {
   "cell_type": "code",
   "execution_count": 103,
   "metadata": {},
   "outputs": [
    {
     "data": {
      "text/plain": [
       "LinearRegression()"
      ]
     },
     "execution_count": 103,
     "metadata": {},
     "output_type": "execute_result"
    }
   ],
   "source": [
    "model = LinearRegression()\n",
    "\n",
    "model.fit(train_X, train_y)\n"
   ]
  },
  {
   "cell_type": "code",
   "execution_count": 104,
   "metadata": {},
   "outputs": [
    {
     "data": {
      "text/plain": [
       "3939.821107130764"
      ]
     },
     "execution_count": 104,
     "metadata": {},
     "output_type": "execute_result"
    }
   ],
   "source": [
    "model.intercept_"
   ]
  },
  {
   "cell_type": "code",
   "execution_count": 105,
   "metadata": {},
   "outputs": [
    {
     "data": {
      "text/plain": [
       "array([-1136.55537846,   553.63612772,   582.91925075,    25.4721528 ])"
      ]
     },
     "execution_count": 105,
     "metadata": {},
     "output_type": "execute_result"
    }
   ],
   "source": [
    "model.coef_"
   ]
  },
  {
   "cell_type": "code",
   "execution_count": 106,
   "metadata": {},
   "outputs": [],
   "source": [
    "pred_train = model.predict(train_X)\n",
    "pred_test = model.predict(test_X)"
   ]
  },
  {
   "cell_type": "code",
   "execution_count": 107,
   "metadata": {},
   "outputs": [
    {
     "name": "stdout",
     "output_type": "stream",
     "text": [
      "Train - MSE 5914562.298863952\n",
      "Test - MSE 7278180.666729972\n",
      "Train - MAE 2033.7461233708043\n",
      "Test - MAE 2215.6501870880215\n",
      "Train - R2 Score 0.10744586492635988\n",
      "Test - R2 Score -0.2237440034691902\n"
     ]
    }
   ],
   "source": [
    "from sklearn.metrics import mean_squared_error, mean_absolute_error, r2_score\n",
    "\n",
    "print(\"Train - MSE\",mean_squared_error(train_y, pred_train))\n",
    "\n",
    "print(\"Test - MSE\",mean_squared_error(test_y, pred_test))\n",
    "\n",
    "print(\"Train - MAE\",mean_absolute_error(train_y, pred_train))\n",
    "\n",
    "print(\"Test - MAE\",mean_absolute_error(test_y, pred_test))\n",
    "\n",
    "print(\"Train - R2 Score\",r2_score(train_y, pred_train))\n",
    "\n",
    "print(\"Test - R2 Score\",r2_score(test_y, pred_test))"
   ]
  },
  {
   "cell_type": "code",
   "execution_count": null,
   "metadata": {},
   "outputs": [],
   "source": []
  },
  {
   "cell_type": "code",
   "execution_count": null,
   "metadata": {},
   "outputs": [],
   "source": []
  },
  {
   "cell_type": "code",
   "execution_count": 68,
   "metadata": {},
   "outputs": [
    {
     "data": {
      "text/plain": [
       "Index(['Organization', 'Age', 'Salary', 'Place', 'Country'], dtype='object')"
      ]
     },
     "execution_count": 68,
     "metadata": {},
     "output_type": "execute_result"
    }
   ],
   "source": [
    "data.columns"
   ]
  },
  {
   "cell_type": "code",
   "execution_count": 84,
   "metadata": {},
   "outputs": [],
   "source": [
    "data_new = pd.concat([data_Org,data[[\"Age\",\"Salary\"]],data_plc], axis = 1)"
   ]
  },
  {
   "cell_type": "code",
   "execution_count": 85,
   "metadata": {},
   "outputs": [
    {
     "data": {
      "text/html": [
       "<div>\n",
       "<style scoped>\n",
       "    .dataframe tbody tr th:only-of-type {\n",
       "        vertical-align: middle;\n",
       "    }\n",
       "\n",
       "    .dataframe tbody tr th {\n",
       "        vertical-align: top;\n",
       "    }\n",
       "\n",
       "    .dataframe thead th {\n",
       "        text-align: right;\n",
       "    }\n",
       "</style>\n",
       "<table border=\"1\" class=\"dataframe\">\n",
       "  <thead>\n",
       "    <tr style=\"text-align: right;\">\n",
       "      <th></th>\n",
       "      <th>CTS</th>\n",
       "      <th>Infosys</th>\n",
       "      <th>TCS</th>\n",
       "      <th>Age</th>\n",
       "      <th>Salary</th>\n",
       "      <th>Bhopal</th>\n",
       "      <th>Calcutta</th>\n",
       "      <th>Chennai</th>\n",
       "      <th>Cochin</th>\n",
       "      <th>Delhi</th>\n",
       "      <th>Hyderabad</th>\n",
       "      <th>Mumbai</th>\n",
       "      <th>Nagpur</th>\n",
       "      <th>Noida</th>\n",
       "      <th>Podicherry</th>\n",
       "      <th>Pune</th>\n",
       "    </tr>\n",
       "  </thead>\n",
       "  <tbody>\n",
       "    <tr>\n",
       "      <th>2</th>\n",
       "      <td>0</td>\n",
       "      <td>0</td>\n",
       "      <td>1</td>\n",
       "      <td>35.0</td>\n",
       "      <td>2300.0</td>\n",
       "      <td>0</td>\n",
       "      <td>1</td>\n",
       "      <td>0</td>\n",
       "      <td>0</td>\n",
       "      <td>0</td>\n",
       "      <td>0</td>\n",
       "      <td>0</td>\n",
       "      <td>0</td>\n",
       "      <td>0</td>\n",
       "      <td>0</td>\n",
       "      <td>0</td>\n",
       "    </tr>\n",
       "    <tr>\n",
       "      <th>3</th>\n",
       "      <td>0</td>\n",
       "      <td>1</td>\n",
       "      <td>0</td>\n",
       "      <td>40.0</td>\n",
       "      <td>3000.0</td>\n",
       "      <td>0</td>\n",
       "      <td>0</td>\n",
       "      <td>0</td>\n",
       "      <td>0</td>\n",
       "      <td>1</td>\n",
       "      <td>0</td>\n",
       "      <td>0</td>\n",
       "      <td>0</td>\n",
       "      <td>0</td>\n",
       "      <td>0</td>\n",
       "      <td>0</td>\n",
       "    </tr>\n",
       "    <tr>\n",
       "      <th>4</th>\n",
       "      <td>0</td>\n",
       "      <td>0</td>\n",
       "      <td>1</td>\n",
       "      <td>23.0</td>\n",
       "      <td>4000.0</td>\n",
       "      <td>0</td>\n",
       "      <td>0</td>\n",
       "      <td>0</td>\n",
       "      <td>0</td>\n",
       "      <td>0</td>\n",
       "      <td>0</td>\n",
       "      <td>1</td>\n",
       "      <td>0</td>\n",
       "      <td>0</td>\n",
       "      <td>0</td>\n",
       "      <td>0</td>\n",
       "    </tr>\n",
       "    <tr>\n",
       "      <th>5</th>\n",
       "      <td>0</td>\n",
       "      <td>1</td>\n",
       "      <td>0</td>\n",
       "      <td>33.0</td>\n",
       "      <td>5000.0</td>\n",
       "      <td>0</td>\n",
       "      <td>1</td>\n",
       "      <td>0</td>\n",
       "      <td>0</td>\n",
       "      <td>0</td>\n",
       "      <td>0</td>\n",
       "      <td>0</td>\n",
       "      <td>0</td>\n",
       "      <td>0</td>\n",
       "      <td>0</td>\n",
       "      <td>0</td>\n",
       "    </tr>\n",
       "    <tr>\n",
       "      <th>6</th>\n",
       "      <td>0</td>\n",
       "      <td>0</td>\n",
       "      <td>1</td>\n",
       "      <td>33.0</td>\n",
       "      <td>6000.0</td>\n",
       "      <td>0</td>\n",
       "      <td>0</td>\n",
       "      <td>1</td>\n",
       "      <td>0</td>\n",
       "      <td>0</td>\n",
       "      <td>0</td>\n",
       "      <td>0</td>\n",
       "      <td>0</td>\n",
       "      <td>0</td>\n",
       "      <td>0</td>\n",
       "      <td>0</td>\n",
       "    </tr>\n",
       "    <tr>\n",
       "      <th>...</th>\n",
       "      <td>...</td>\n",
       "      <td>...</td>\n",
       "      <td>...</td>\n",
       "      <td>...</td>\n",
       "      <td>...</td>\n",
       "      <td>...</td>\n",
       "      <td>...</td>\n",
       "      <td>...</td>\n",
       "      <td>...</td>\n",
       "      <td>...</td>\n",
       "      <td>...</td>\n",
       "      <td>...</td>\n",
       "      <td>...</td>\n",
       "      <td>...</td>\n",
       "      <td>...</td>\n",
       "      <td>...</td>\n",
       "    </tr>\n",
       "    <tr>\n",
       "      <th>139</th>\n",
       "      <td>1</td>\n",
       "      <td>0</td>\n",
       "      <td>0</td>\n",
       "      <td>22.0</td>\n",
       "      <td>2934.0</td>\n",
       "      <td>0</td>\n",
       "      <td>0</td>\n",
       "      <td>0</td>\n",
       "      <td>0</td>\n",
       "      <td>0</td>\n",
       "      <td>0</td>\n",
       "      <td>0</td>\n",
       "      <td>0</td>\n",
       "      <td>1</td>\n",
       "      <td>0</td>\n",
       "      <td>0</td>\n",
       "    </tr>\n",
       "    <tr>\n",
       "      <th>140</th>\n",
       "      <td>0</td>\n",
       "      <td>1</td>\n",
       "      <td>0</td>\n",
       "      <td>44.0</td>\n",
       "      <td>4034.0</td>\n",
       "      <td>0</td>\n",
       "      <td>0</td>\n",
       "      <td>0</td>\n",
       "      <td>0</td>\n",
       "      <td>0</td>\n",
       "      <td>1</td>\n",
       "      <td>0</td>\n",
       "      <td>0</td>\n",
       "      <td>0</td>\n",
       "      <td>0</td>\n",
       "      <td>0</td>\n",
       "    </tr>\n",
       "    <tr>\n",
       "      <th>141</th>\n",
       "      <td>0</td>\n",
       "      <td>0</td>\n",
       "      <td>1</td>\n",
       "      <td>33.0</td>\n",
       "      <td>5034.0</td>\n",
       "      <td>0</td>\n",
       "      <td>1</td>\n",
       "      <td>0</td>\n",
       "      <td>0</td>\n",
       "      <td>0</td>\n",
       "      <td>0</td>\n",
       "      <td>0</td>\n",
       "      <td>0</td>\n",
       "      <td>0</td>\n",
       "      <td>0</td>\n",
       "      <td>0</td>\n",
       "    </tr>\n",
       "    <tr>\n",
       "      <th>142</th>\n",
       "      <td>0</td>\n",
       "      <td>1</td>\n",
       "      <td>0</td>\n",
       "      <td>22.0</td>\n",
       "      <td>8202.0</td>\n",
       "      <td>0</td>\n",
       "      <td>0</td>\n",
       "      <td>0</td>\n",
       "      <td>0</td>\n",
       "      <td>0</td>\n",
       "      <td>0</td>\n",
       "      <td>1</td>\n",
       "      <td>0</td>\n",
       "      <td>0</td>\n",
       "      <td>0</td>\n",
       "      <td>0</td>\n",
       "    </tr>\n",
       "    <tr>\n",
       "      <th>143</th>\n",
       "      <td>0</td>\n",
       "      <td>0</td>\n",
       "      <td>1</td>\n",
       "      <td>33.0</td>\n",
       "      <td>9024.0</td>\n",
       "      <td>0</td>\n",
       "      <td>1</td>\n",
       "      <td>0</td>\n",
       "      <td>0</td>\n",
       "      <td>0</td>\n",
       "      <td>0</td>\n",
       "      <td>0</td>\n",
       "      <td>0</td>\n",
       "      <td>0</td>\n",
       "      <td>0</td>\n",
       "      <td>0</td>\n",
       "    </tr>\n",
       "  </tbody>\n",
       "</table>\n",
       "<p>100 rows × 16 columns</p>\n",
       "</div>"
      ],
      "text/plain": [
       "     CTS  Infosys  TCS   Age  Salary  Bhopal  Calcutta  Chennai  Cochin  \\\n",
       "2      0        0    1  35.0  2300.0       0         1        0       0   \n",
       "3      0        1    0  40.0  3000.0       0         0        0       0   \n",
       "4      0        0    1  23.0  4000.0       0         0        0       0   \n",
       "5      0        1    0  33.0  5000.0       0         1        0       0   \n",
       "6      0        0    1  33.0  6000.0       0         0        1       0   \n",
       "..   ...      ...  ...   ...     ...     ...       ...      ...     ...   \n",
       "139    1        0    0  22.0  2934.0       0         0        0       0   \n",
       "140    0        1    0  44.0  4034.0       0         0        0       0   \n",
       "141    0        0    1  33.0  5034.0       0         1        0       0   \n",
       "142    0        1    0  22.0  8202.0       0         0        0       0   \n",
       "143    0        0    1  33.0  9024.0       0         1        0       0   \n",
       "\n",
       "     Delhi  Hyderabad  Mumbai  Nagpur  Noida  Podicherry  Pune  \n",
       "2        0          0       0       0      0           0     0  \n",
       "3        1          0       0       0      0           0     0  \n",
       "4        0          0       1       0      0           0     0  \n",
       "5        0          0       0       0      0           0     0  \n",
       "6        0          0       0       0      0           0     0  \n",
       "..     ...        ...     ...     ...    ...         ...   ...  \n",
       "139      0          0       0       0      1           0     0  \n",
       "140      0          1       0       0      0           0     0  \n",
       "141      0          0       0       0      0           0     0  \n",
       "142      0          0       1       0      0           0     0  \n",
       "143      0          0       0       0      0           0     0  \n",
       "\n",
       "[100 rows x 16 columns]"
      ]
     },
     "execution_count": 85,
     "metadata": {},
     "output_type": "execute_result"
    }
   ],
   "source": [
    "data_new"
   ]
  },
  {
   "cell_type": "code",
   "execution_count": 86,
   "metadata": {},
   "outputs": [],
   "source": [
    "X = data_new.drop(columns=\"Salary\")"
   ]
  },
  {
   "cell_type": "code",
   "execution_count": 87,
   "metadata": {},
   "outputs": [],
   "source": [
    "y = data_new[\"Salary\"]"
   ]
  },
  {
   "cell_type": "code",
   "execution_count": 88,
   "metadata": {},
   "outputs": [
    {
     "data": {
      "text/plain": [
       "((70, 15), (30, 15), (70,), (30,))"
      ]
     },
     "execution_count": 88,
     "metadata": {},
     "output_type": "execute_result"
    }
   ],
   "source": [
    "\n",
    "\n",
    "from sklearn.model_selection import train_test_split\n",
    "\n",
    "train_X, test_X, train_y, test_y = train_test_split(X, y, test_size = 0.3, random_state = 5)\n",
    "\n",
    "\n",
    "train_X\n",
    "\n",
    "data.shape\n",
    "\n",
    "train_X.shape, test_X.shape, train_y.shape, test_y.shape"
   ]
  },
  {
   "cell_type": "code",
   "execution_count": 89,
   "metadata": {},
   "outputs": [
    {
     "data": {
      "text/plain": [
       "LinearRegression()"
      ]
     },
     "execution_count": 89,
     "metadata": {},
     "output_type": "execute_result"
    }
   ],
   "source": [
    "model = LinearRegression()\n",
    "\n",
    "model.fit(train_X, train_y)\n"
   ]
  },
  {
   "cell_type": "code",
   "execution_count": 90,
   "metadata": {},
   "outputs": [
    {
     "data": {
      "text/plain": [
       "3795.2056078236405"
      ]
     },
     "execution_count": 90,
     "metadata": {},
     "output_type": "execute_result"
    }
   ],
   "source": [
    "model.intercept_"
   ]
  },
  {
   "cell_type": "code",
   "execution_count": 91,
   "metadata": {},
   "outputs": [
    {
     "data": {
      "text/plain": [
       "array([-1.00214156e+03,  4.28446214e+02,  5.73695343e+02,  2.82996308e+01,\n",
       "        1.13686838e-13, -1.68851855e+02,  1.26207804e+03,  3.12593277e+02,\n",
       "       -1.70654438e+02, -1.16272733e+02,  7.85430004e+01,  0.00000000e+00,\n",
       "       -4.38371242e+02, -7.59064051e+02,  0.00000000e+00])"
      ]
     },
     "execution_count": 91,
     "metadata": {},
     "output_type": "execute_result"
    }
   ],
   "source": [
    "model.coef_"
   ]
  },
  {
   "cell_type": "code",
   "execution_count": 92,
   "metadata": {},
   "outputs": [],
   "source": [
    "pred_train = model.predict(train_X)\n",
    "pred_test = model.predict(test_X)"
   ]
  },
  {
   "cell_type": "code",
   "execution_count": 93,
   "metadata": {},
   "outputs": [
    {
     "name": "stdout",
     "output_type": "stream",
     "text": [
      "Train - MSE 5726826.3757013185\n",
      "Test - MSE 7408496.540089834\n",
      "Train - MAE 1953.3826142484106\n",
      "Test - MAE 2225.180749695492\n",
      "Train - R2 Score 0.13577669754821942\n",
      "Test - R2 Score -0.24565514800974375\n"
     ]
    }
   ],
   "source": [
    "from sklearn.metrics import mean_squared_error, mean_absolute_error, r2_score\n",
    "\n",
    "print(\"Train - MSE\",mean_squared_error(train_y, pred_train))\n",
    "\n",
    "print(\"Test - MSE\",mean_squared_error(test_y, pred_test))\n",
    "\n",
    "print(\"Train - MAE\",mean_absolute_error(train_y, pred_train))\n",
    "\n",
    "print(\"Test - MAE\",mean_absolute_error(test_y, pred_test))\n",
    "\n",
    "print(\"Train - R2 Score\",r2_score(train_y, pred_train))\n",
    "\n",
    "print(\"Test - R2 Score\",r2_score(test_y, pred_test))"
   ]
  },
  {
   "cell_type": "code",
   "execution_count": 94,
   "metadata": {},
   "outputs": [
    {
     "data": {
      "text/html": [
       "<div>\n",
       "<style scoped>\n",
       "    .dataframe tbody tr th:only-of-type {\n",
       "        vertical-align: middle;\n",
       "    }\n",
       "\n",
       "    .dataframe tbody tr th {\n",
       "        vertical-align: top;\n",
       "    }\n",
       "\n",
       "    .dataframe thead th {\n",
       "        text-align: right;\n",
       "    }\n",
       "</style>\n",
       "<table border=\"1\" class=\"dataframe\">\n",
       "  <thead>\n",
       "    <tr style=\"text-align: right;\">\n",
       "      <th></th>\n",
       "      <th>CTS</th>\n",
       "      <th>Infosys</th>\n",
       "      <th>TCS</th>\n",
       "      <th>Age</th>\n",
       "      <th>Salary</th>\n",
       "      <th>Bhopal</th>\n",
       "      <th>Calcutta</th>\n",
       "      <th>Chennai</th>\n",
       "      <th>Cochin</th>\n",
       "      <th>Delhi</th>\n",
       "      <th>Hyderabad</th>\n",
       "      <th>Mumbai</th>\n",
       "      <th>Nagpur</th>\n",
       "      <th>Noida</th>\n",
       "      <th>Podicherry</th>\n",
       "      <th>Pune</th>\n",
       "    </tr>\n",
       "  </thead>\n",
       "  <tbody>\n",
       "    <tr>\n",
       "      <th>CTS</th>\n",
       "      <td>1.000000</td>\n",
       "      <td>-0.423659</td>\n",
       "      <td>-4.714045e-01</td>\n",
       "      <td>-0.052561</td>\n",
       "      <td>-0.174432</td>\n",
       "      <td>-0.058026</td>\n",
       "      <td>-0.066667</td>\n",
       "      <td>-3.849002e-02</td>\n",
       "      <td>0.018452</td>\n",
       "      <td>-0.055357</td>\n",
       "      <td>0.048622</td>\n",
       "      <td>-1.333333e-02</td>\n",
       "      <td>-0.058026</td>\n",
       "      <td>0.048622</td>\n",
       "      <td>0.169224</td>\n",
       "      <td>0.174078</td>\n",
       "    </tr>\n",
       "    <tr>\n",
       "      <th>Infosys</th>\n",
       "      <td>-0.423659</td>\n",
       "      <td>1.000000</td>\n",
       "      <td>-5.991447e-01</td>\n",
       "      <td>0.144988</td>\n",
       "      <td>0.000827</td>\n",
       "      <td>0.136964</td>\n",
       "      <td>-0.036314</td>\n",
       "      <td>3.494283e-02</td>\n",
       "      <td>0.010051</td>\n",
       "      <td>0.010051</td>\n",
       "      <td>0.079453</td>\n",
       "      <td>1.210455e-02</td>\n",
       "      <td>-0.073750</td>\n",
       "      <td>-0.097110</td>\n",
       "      <td>-0.006145</td>\n",
       "      <td>-0.073750</td>\n",
       "    </tr>\n",
       "    <tr>\n",
       "      <th>TCS</th>\n",
       "      <td>-0.471405</td>\n",
       "      <td>-0.599145</td>\n",
       "      <td>1.000000e+00</td>\n",
       "      <td>-0.094703</td>\n",
       "      <td>0.153373</td>\n",
       "      <td>-0.082061</td>\n",
       "      <td>0.094281</td>\n",
       "      <td>1.510822e-17</td>\n",
       "      <td>-0.026095</td>\n",
       "      <td>0.039143</td>\n",
       "      <td>-0.120332</td>\n",
       "      <td>-3.925231e-18</td>\n",
       "      <td>0.123091</td>\n",
       "      <td>0.051571</td>\n",
       "      <td>-0.143592</td>\n",
       "      <td>-0.082061</td>\n",
       "    </tr>\n",
       "    <tr>\n",
       "      <th>Age</th>\n",
       "      <td>-0.052561</td>\n",
       "      <td>0.144988</td>\n",
       "      <td>-9.470327e-02</td>\n",
       "      <td>1.000000</td>\n",
       "      <td>0.095678</td>\n",
       "      <td>-0.042230</td>\n",
       "      <td>-0.099058</td>\n",
       "      <td>2.917921e-03</td>\n",
       "      <td>0.031334</td>\n",
       "      <td>0.140445</td>\n",
       "      <td>0.196095</td>\n",
       "      <td>-1.111877e-01</td>\n",
       "      <td>0.010557</td>\n",
       "      <td>0.019167</td>\n",
       "      <td>-0.130341</td>\n",
       "      <td>0.107334</td>\n",
       "    </tr>\n",
       "    <tr>\n",
       "      <th>Salary</th>\n",
       "      <td>-0.174432</td>\n",
       "      <td>0.000827</td>\n",
       "      <td>1.533731e-01</td>\n",
       "      <td>0.095678</td>\n",
       "      <td>1.000000</td>\n",
       "      <td>0.080964</td>\n",
       "      <td>-0.035221</td>\n",
       "      <td>1.154630e-01</td>\n",
       "      <td>-0.025538</td>\n",
       "      <td>-0.016011</td>\n",
       "      <td>-0.056493</td>\n",
       "      <td>-1.189006e-02</td>\n",
       "      <td>0.120486</td>\n",
       "      <td>-0.091779</td>\n",
       "      <td>-0.011673</td>\n",
       "      <td>0.160009</td>\n",
       "    </tr>\n",
       "    <tr>\n",
       "      <th>Bhopal</th>\n",
       "      <td>-0.058026</td>\n",
       "      <td>0.136964</td>\n",
       "      <td>-8.206099e-02</td>\n",
       "      <td>-0.042230</td>\n",
       "      <td>0.080964</td>\n",
       "      <td>1.000000</td>\n",
       "      <td>-0.058026</td>\n",
       "      <td>-3.350126e-02</td>\n",
       "      <td>-0.035333</td>\n",
       "      <td>-0.035333</td>\n",
       "      <td>-0.025392</td>\n",
       "      <td>-5.802589e-02</td>\n",
       "      <td>-0.010101</td>\n",
       "      <td>-0.025392</td>\n",
       "      <td>-0.017675</td>\n",
       "      <td>-0.010101</td>\n",
       "    </tr>\n",
       "    <tr>\n",
       "      <th>Calcutta</th>\n",
       "      <td>-0.066667</td>\n",
       "      <td>-0.036314</td>\n",
       "      <td>9.428090e-02</td>\n",
       "      <td>-0.099058</td>\n",
       "      <td>-0.035221</td>\n",
       "      <td>-0.058026</td>\n",
       "      <td>1.000000</td>\n",
       "      <td>-1.924501e-01</td>\n",
       "      <td>-0.202974</td>\n",
       "      <td>-0.202974</td>\n",
       "      <td>-0.145865</td>\n",
       "      <td>-3.333333e-01</td>\n",
       "      <td>-0.058026</td>\n",
       "      <td>-0.145865</td>\n",
       "      <td>-0.101535</td>\n",
       "      <td>-0.058026</td>\n",
       "    </tr>\n",
       "    <tr>\n",
       "      <th>Chennai</th>\n",
       "      <td>-0.038490</td>\n",
       "      <td>0.034943</td>\n",
       "      <td>1.510822e-17</td>\n",
       "      <td>0.002918</td>\n",
       "      <td>0.115463</td>\n",
       "      <td>-0.033501</td>\n",
       "      <td>-0.192450</td>\n",
       "      <td>1.000000e+00</td>\n",
       "      <td>-0.117187</td>\n",
       "      <td>-0.117187</td>\n",
       "      <td>-0.084215</td>\n",
       "      <td>-1.924501e-01</td>\n",
       "      <td>-0.033501</td>\n",
       "      <td>-0.084215</td>\n",
       "      <td>-0.058621</td>\n",
       "      <td>-0.033501</td>\n",
       "    </tr>\n",
       "    <tr>\n",
       "      <th>Cochin</th>\n",
       "      <td>0.018452</td>\n",
       "      <td>0.010051</td>\n",
       "      <td>-2.609534e-02</td>\n",
       "      <td>0.031334</td>\n",
       "      <td>-0.025538</td>\n",
       "      <td>-0.035333</td>\n",
       "      <td>-0.202974</td>\n",
       "      <td>-1.171872e-01</td>\n",
       "      <td>1.000000</td>\n",
       "      <td>-0.123596</td>\n",
       "      <td>-0.088820</td>\n",
       "      <td>-2.029741e-01</td>\n",
       "      <td>-0.035333</td>\n",
       "      <td>-0.088820</td>\n",
       "      <td>-0.061827</td>\n",
       "      <td>-0.035333</td>\n",
       "    </tr>\n",
       "    <tr>\n",
       "      <th>Delhi</th>\n",
       "      <td>-0.055357</td>\n",
       "      <td>0.010051</td>\n",
       "      <td>3.914302e-02</td>\n",
       "      <td>0.140445</td>\n",
       "      <td>-0.016011</td>\n",
       "      <td>-0.035333</td>\n",
       "      <td>-0.202974</td>\n",
       "      <td>-1.171872e-01</td>\n",
       "      <td>-0.123596</td>\n",
       "      <td>1.000000</td>\n",
       "      <td>-0.088820</td>\n",
       "      <td>-2.029741e-01</td>\n",
       "      <td>-0.035333</td>\n",
       "      <td>-0.088820</td>\n",
       "      <td>-0.061827</td>\n",
       "      <td>-0.035333</td>\n",
       "    </tr>\n",
       "    <tr>\n",
       "      <th>Hyderabad</th>\n",
       "      <td>0.048622</td>\n",
       "      <td>0.079453</td>\n",
       "      <td>-1.203325e-01</td>\n",
       "      <td>0.196095</td>\n",
       "      <td>-0.056493</td>\n",
       "      <td>-0.025392</td>\n",
       "      <td>-0.145865</td>\n",
       "      <td>-8.421519e-02</td>\n",
       "      <td>-0.088820</td>\n",
       "      <td>-0.088820</td>\n",
       "      <td>1.000000</td>\n",
       "      <td>-1.458650e-01</td>\n",
       "      <td>-0.025392</td>\n",
       "      <td>-0.063830</td>\n",
       "      <td>-0.044431</td>\n",
       "      <td>-0.025392</td>\n",
       "    </tr>\n",
       "    <tr>\n",
       "      <th>Mumbai</th>\n",
       "      <td>-0.013333</td>\n",
       "      <td>0.012105</td>\n",
       "      <td>-3.925231e-18</td>\n",
       "      <td>-0.111188</td>\n",
       "      <td>-0.011890</td>\n",
       "      <td>-0.058026</td>\n",
       "      <td>-0.333333</td>\n",
       "      <td>-1.924501e-01</td>\n",
       "      <td>-0.202974</td>\n",
       "      <td>-0.202974</td>\n",
       "      <td>-0.145865</td>\n",
       "      <td>1.000000e+00</td>\n",
       "      <td>-0.058026</td>\n",
       "      <td>-0.145865</td>\n",
       "      <td>-0.101535</td>\n",
       "      <td>-0.058026</td>\n",
       "    </tr>\n",
       "    <tr>\n",
       "      <th>Nagpur</th>\n",
       "      <td>-0.058026</td>\n",
       "      <td>-0.073750</td>\n",
       "      <td>1.230915e-01</td>\n",
       "      <td>0.010557</td>\n",
       "      <td>0.120486</td>\n",
       "      <td>-0.010101</td>\n",
       "      <td>-0.058026</td>\n",
       "      <td>-3.350126e-02</td>\n",
       "      <td>-0.035333</td>\n",
       "      <td>-0.035333</td>\n",
       "      <td>-0.025392</td>\n",
       "      <td>-5.802589e-02</td>\n",
       "      <td>1.000000</td>\n",
       "      <td>-0.025392</td>\n",
       "      <td>-0.017675</td>\n",
       "      <td>-0.010101</td>\n",
       "    </tr>\n",
       "    <tr>\n",
       "      <th>Noida</th>\n",
       "      <td>0.048622</td>\n",
       "      <td>-0.097110</td>\n",
       "      <td>5.157106e-02</td>\n",
       "      <td>0.019167</td>\n",
       "      <td>-0.091779</td>\n",
       "      <td>-0.025392</td>\n",
       "      <td>-0.145865</td>\n",
       "      <td>-8.421519e-02</td>\n",
       "      <td>-0.088820</td>\n",
       "      <td>-0.088820</td>\n",
       "      <td>-0.063830</td>\n",
       "      <td>-1.458650e-01</td>\n",
       "      <td>-0.025392</td>\n",
       "      <td>1.000000</td>\n",
       "      <td>-0.044431</td>\n",
       "      <td>-0.025392</td>\n",
       "    </tr>\n",
       "    <tr>\n",
       "      <th>Podicherry</th>\n",
       "      <td>0.169224</td>\n",
       "      <td>-0.006145</td>\n",
       "      <td>-1.435916e-01</td>\n",
       "      <td>-0.130341</td>\n",
       "      <td>-0.011673</td>\n",
       "      <td>-0.017675</td>\n",
       "      <td>-0.101535</td>\n",
       "      <td>-5.862104e-02</td>\n",
       "      <td>-0.061827</td>\n",
       "      <td>-0.061827</td>\n",
       "      <td>-0.044431</td>\n",
       "      <td>-1.015346e-01</td>\n",
       "      <td>-0.017675</td>\n",
       "      <td>-0.044431</td>\n",
       "      <td>1.000000</td>\n",
       "      <td>-0.017675</td>\n",
       "    </tr>\n",
       "    <tr>\n",
       "      <th>Pune</th>\n",
       "      <td>0.174078</td>\n",
       "      <td>-0.073750</td>\n",
       "      <td>-8.206099e-02</td>\n",
       "      <td>0.107334</td>\n",
       "      <td>0.160009</td>\n",
       "      <td>-0.010101</td>\n",
       "      <td>-0.058026</td>\n",
       "      <td>-3.350126e-02</td>\n",
       "      <td>-0.035333</td>\n",
       "      <td>-0.035333</td>\n",
       "      <td>-0.025392</td>\n",
       "      <td>-5.802589e-02</td>\n",
       "      <td>-0.010101</td>\n",
       "      <td>-0.025392</td>\n",
       "      <td>-0.017675</td>\n",
       "      <td>1.000000</td>\n",
       "    </tr>\n",
       "  </tbody>\n",
       "</table>\n",
       "</div>"
      ],
      "text/plain": [
       "                 CTS   Infosys           TCS       Age    Salary    Bhopal  \\\n",
       "CTS         1.000000 -0.423659 -4.714045e-01 -0.052561 -0.174432 -0.058026   \n",
       "Infosys    -0.423659  1.000000 -5.991447e-01  0.144988  0.000827  0.136964   \n",
       "TCS        -0.471405 -0.599145  1.000000e+00 -0.094703  0.153373 -0.082061   \n",
       "Age        -0.052561  0.144988 -9.470327e-02  1.000000  0.095678 -0.042230   \n",
       "Salary     -0.174432  0.000827  1.533731e-01  0.095678  1.000000  0.080964   \n",
       "Bhopal     -0.058026  0.136964 -8.206099e-02 -0.042230  0.080964  1.000000   \n",
       "Calcutta   -0.066667 -0.036314  9.428090e-02 -0.099058 -0.035221 -0.058026   \n",
       "Chennai    -0.038490  0.034943  1.510822e-17  0.002918  0.115463 -0.033501   \n",
       "Cochin      0.018452  0.010051 -2.609534e-02  0.031334 -0.025538 -0.035333   \n",
       "Delhi      -0.055357  0.010051  3.914302e-02  0.140445 -0.016011 -0.035333   \n",
       "Hyderabad   0.048622  0.079453 -1.203325e-01  0.196095 -0.056493 -0.025392   \n",
       "Mumbai     -0.013333  0.012105 -3.925231e-18 -0.111188 -0.011890 -0.058026   \n",
       "Nagpur     -0.058026 -0.073750  1.230915e-01  0.010557  0.120486 -0.010101   \n",
       "Noida       0.048622 -0.097110  5.157106e-02  0.019167 -0.091779 -0.025392   \n",
       "Podicherry  0.169224 -0.006145 -1.435916e-01 -0.130341 -0.011673 -0.017675   \n",
       "Pune        0.174078 -0.073750 -8.206099e-02  0.107334  0.160009 -0.010101   \n",
       "\n",
       "            Calcutta       Chennai    Cochin     Delhi  Hyderabad  \\\n",
       "CTS        -0.066667 -3.849002e-02  0.018452 -0.055357   0.048622   \n",
       "Infosys    -0.036314  3.494283e-02  0.010051  0.010051   0.079453   \n",
       "TCS         0.094281  1.510822e-17 -0.026095  0.039143  -0.120332   \n",
       "Age        -0.099058  2.917921e-03  0.031334  0.140445   0.196095   \n",
       "Salary     -0.035221  1.154630e-01 -0.025538 -0.016011  -0.056493   \n",
       "Bhopal     -0.058026 -3.350126e-02 -0.035333 -0.035333  -0.025392   \n",
       "Calcutta    1.000000 -1.924501e-01 -0.202974 -0.202974  -0.145865   \n",
       "Chennai    -0.192450  1.000000e+00 -0.117187 -0.117187  -0.084215   \n",
       "Cochin     -0.202974 -1.171872e-01  1.000000 -0.123596  -0.088820   \n",
       "Delhi      -0.202974 -1.171872e-01 -0.123596  1.000000  -0.088820   \n",
       "Hyderabad  -0.145865 -8.421519e-02 -0.088820 -0.088820   1.000000   \n",
       "Mumbai     -0.333333 -1.924501e-01 -0.202974 -0.202974  -0.145865   \n",
       "Nagpur     -0.058026 -3.350126e-02 -0.035333 -0.035333  -0.025392   \n",
       "Noida      -0.145865 -8.421519e-02 -0.088820 -0.088820  -0.063830   \n",
       "Podicherry -0.101535 -5.862104e-02 -0.061827 -0.061827  -0.044431   \n",
       "Pune       -0.058026 -3.350126e-02 -0.035333 -0.035333  -0.025392   \n",
       "\n",
       "                  Mumbai    Nagpur     Noida  Podicherry      Pune  \n",
       "CTS        -1.333333e-02 -0.058026  0.048622    0.169224  0.174078  \n",
       "Infosys     1.210455e-02 -0.073750 -0.097110   -0.006145 -0.073750  \n",
       "TCS        -3.925231e-18  0.123091  0.051571   -0.143592 -0.082061  \n",
       "Age        -1.111877e-01  0.010557  0.019167   -0.130341  0.107334  \n",
       "Salary     -1.189006e-02  0.120486 -0.091779   -0.011673  0.160009  \n",
       "Bhopal     -5.802589e-02 -0.010101 -0.025392   -0.017675 -0.010101  \n",
       "Calcutta   -3.333333e-01 -0.058026 -0.145865   -0.101535 -0.058026  \n",
       "Chennai    -1.924501e-01 -0.033501 -0.084215   -0.058621 -0.033501  \n",
       "Cochin     -2.029741e-01 -0.035333 -0.088820   -0.061827 -0.035333  \n",
       "Delhi      -2.029741e-01 -0.035333 -0.088820   -0.061827 -0.035333  \n",
       "Hyderabad  -1.458650e-01 -0.025392 -0.063830   -0.044431 -0.025392  \n",
       "Mumbai      1.000000e+00 -0.058026 -0.145865   -0.101535 -0.058026  \n",
       "Nagpur     -5.802589e-02  1.000000 -0.025392   -0.017675 -0.010101  \n",
       "Noida      -1.458650e-01 -0.025392  1.000000   -0.044431 -0.025392  \n",
       "Podicherry -1.015346e-01 -0.017675 -0.044431    1.000000 -0.017675  \n",
       "Pune       -5.802589e-02 -0.010101 -0.025392   -0.017675  1.000000  "
      ]
     },
     "execution_count": 94,
     "metadata": {},
     "output_type": "execute_result"
    }
   ],
   "source": [
    "data_new.corr()"
   ]
  },
  {
   "cell_type": "code",
   "execution_count": 81,
   "metadata": {},
   "outputs": [],
   "source": [
    "val_X, test_X, val_y, test_y = train_test_split(test_X, test_y, test_size = 0.5, random_state = 9)"
   ]
  },
  {
   "cell_type": "code",
   "execution_count": 82,
   "metadata": {},
   "outputs": [
    {
     "data": {
      "text/html": [
       "<div>\n",
       "<style scoped>\n",
       "    .dataframe tbody tr th:only-of-type {\n",
       "        vertical-align: middle;\n",
       "    }\n",
       "\n",
       "    .dataframe tbody tr th {\n",
       "        vertical-align: top;\n",
       "    }\n",
       "\n",
       "    .dataframe thead th {\n",
       "        text-align: right;\n",
       "    }\n",
       "</style>\n",
       "<table border=\"1\" class=\"dataframe\">\n",
       "  <thead>\n",
       "    <tr style=\"text-align: right;\">\n",
       "      <th></th>\n",
       "      <th>2       Calcutta\\n3          Delhi\\n4         Mumbai\\n5       Calcutta\\n6        Chennai\\n         ...    \\n139        Noida\\n140    Hyderabad\\n141     Calcutta\\n142       Mumbai\\n143     Calcutta\\nName: Place, Length: 100, dtype: object_CTS</th>\n",
       "      <th>2       Calcutta\\n3          Delhi\\n4         Mumbai\\n5       Calcutta\\n6        Chennai\\n         ...    \\n139        Noida\\n140    Hyderabad\\n141     Calcutta\\n142       Mumbai\\n143     Calcutta\\nName: Place, Length: 100, dtype: object_Infosys</th>\n",
       "      <th>2       Calcutta\\n3          Delhi\\n4         Mumbai\\n5       Calcutta\\n6        Chennai\\n         ...    \\n139        Noida\\n140    Hyderabad\\n141     Calcutta\\n142       Mumbai\\n143     Calcutta\\nName: Place, Length: 100, dtype: object_TCS</th>\n",
       "      <th>Age</th>\n",
       "    </tr>\n",
       "  </thead>\n",
       "  <tbody>\n",
       "    <tr>\n",
       "      <th>127</th>\n",
       "      <td>0</td>\n",
       "      <td>1</td>\n",
       "      <td>0</td>\n",
       "      <td>30.0</td>\n",
       "    </tr>\n",
       "    <tr>\n",
       "      <th>141</th>\n",
       "      <td>0</td>\n",
       "      <td>0</td>\n",
       "      <td>1</td>\n",
       "      <td>33.0</td>\n",
       "    </tr>\n",
       "    <tr>\n",
       "      <th>86</th>\n",
       "      <td>0</td>\n",
       "      <td>1</td>\n",
       "      <td>0</td>\n",
       "      <td>41.0</td>\n",
       "    </tr>\n",
       "    <tr>\n",
       "      <th>94</th>\n",
       "      <td>0</td>\n",
       "      <td>0</td>\n",
       "      <td>1</td>\n",
       "      <td>22.0</td>\n",
       "    </tr>\n",
       "    <tr>\n",
       "      <th>89</th>\n",
       "      <td>0</td>\n",
       "      <td>0</td>\n",
       "      <td>1</td>\n",
       "      <td>36.0</td>\n",
       "    </tr>\n",
       "    <tr>\n",
       "      <th>81</th>\n",
       "      <td>1</td>\n",
       "      <td>0</td>\n",
       "      <td>0</td>\n",
       "      <td>43.0</td>\n",
       "    </tr>\n",
       "    <tr>\n",
       "      <th>23</th>\n",
       "      <td>0</td>\n",
       "      <td>1</td>\n",
       "      <td>0</td>\n",
       "      <td>33.0</td>\n",
       "    </tr>\n",
       "    <tr>\n",
       "      <th>138</th>\n",
       "      <td>1</td>\n",
       "      <td>0</td>\n",
       "      <td>0</td>\n",
       "      <td>44.0</td>\n",
       "    </tr>\n",
       "    <tr>\n",
       "      <th>17</th>\n",
       "      <td>0</td>\n",
       "      <td>0</td>\n",
       "      <td>1</td>\n",
       "      <td>34.0</td>\n",
       "    </tr>\n",
       "    <tr>\n",
       "      <th>47</th>\n",
       "      <td>1</td>\n",
       "      <td>0</td>\n",
       "      <td>0</td>\n",
       "      <td>32.0</td>\n",
       "    </tr>\n",
       "    <tr>\n",
       "      <th>99</th>\n",
       "      <td>1</td>\n",
       "      <td>0</td>\n",
       "      <td>0</td>\n",
       "      <td>44.0</td>\n",
       "    </tr>\n",
       "    <tr>\n",
       "      <th>30</th>\n",
       "      <td>1</td>\n",
       "      <td>0</td>\n",
       "      <td>0</td>\n",
       "      <td>46.0</td>\n",
       "    </tr>\n",
       "    <tr>\n",
       "      <th>28</th>\n",
       "      <td>1</td>\n",
       "      <td>0</td>\n",
       "      <td>0</td>\n",
       "      <td>23.0</td>\n",
       "    </tr>\n",
       "    <tr>\n",
       "      <th>80</th>\n",
       "      <td>0</td>\n",
       "      <td>0</td>\n",
       "      <td>1</td>\n",
       "      <td>32.0</td>\n",
       "    </tr>\n",
       "    <tr>\n",
       "      <th>79</th>\n",
       "      <td>0</td>\n",
       "      <td>1</td>\n",
       "      <td>0</td>\n",
       "      <td>26.0</td>\n",
       "    </tr>\n",
       "  </tbody>\n",
       "</table>\n",
       "</div>"
      ],
      "text/plain": [
       "     2       Calcutta\\n3          Delhi\\n4         Mumbai\\n5       Calcutta\\n6        Chennai\\n         ...    \\n139        Noida\\n140    Hyderabad\\n141     Calcutta\\n142       Mumbai\\n143     Calcutta\\nName: Place, Length: 100, dtype: object_CTS  \\\n",
       "127                                                  0                                                                                                                                                                                                   \n",
       "141                                                  0                                                                                                                                                                                                   \n",
       "86                                                   0                                                                                                                                                                                                   \n",
       "94                                                   0                                                                                                                                                                                                   \n",
       "89                                                   0                                                                                                                                                                                                   \n",
       "81                                                   1                                                                                                                                                                                                   \n",
       "23                                                   0                                                                                                                                                                                                   \n",
       "138                                                  1                                                                                                                                                                                                   \n",
       "17                                                   0                                                                                                                                                                                                   \n",
       "47                                                   1                                                                                                                                                                                                   \n",
       "99                                                   1                                                                                                                                                                                                   \n",
       "30                                                   1                                                                                                                                                                                                   \n",
       "28                                                   1                                                                                                                                                                                                   \n",
       "80                                                   0                                                                                                                                                                                                   \n",
       "79                                                   0                                                                                                                                                                                                   \n",
       "\n",
       "     2       Calcutta\\n3          Delhi\\n4         Mumbai\\n5       Calcutta\\n6        Chennai\\n         ...    \\n139        Noida\\n140    Hyderabad\\n141     Calcutta\\n142       Mumbai\\n143     Calcutta\\nName: Place, Length: 100, dtype: object_Infosys  \\\n",
       "127                                                  1                                                                                                                                                                                                       \n",
       "141                                                  0                                                                                                                                                                                                       \n",
       "86                                                   1                                                                                                                                                                                                       \n",
       "94                                                   0                                                                                                                                                                                                       \n",
       "89                                                   0                                                                                                                                                                                                       \n",
       "81                                                   0                                                                                                                                                                                                       \n",
       "23                                                   1                                                                                                                                                                                                       \n",
       "138                                                  0                                                                                                                                                                                                       \n",
       "17                                                   0                                                                                                                                                                                                       \n",
       "47                                                   0                                                                                                                                                                                                       \n",
       "99                                                   0                                                                                                                                                                                                       \n",
       "30                                                   0                                                                                                                                                                                                       \n",
       "28                                                   0                                                                                                                                                                                                       \n",
       "80                                                   0                                                                                                                                                                                                       \n",
       "79                                                   1                                                                                                                                                                                                       \n",
       "\n",
       "     2       Calcutta\\n3          Delhi\\n4         Mumbai\\n5       Calcutta\\n6        Chennai\\n         ...    \\n139        Noida\\n140    Hyderabad\\n141     Calcutta\\n142       Mumbai\\n143     Calcutta\\nName: Place, Length: 100, dtype: object_TCS  \\\n",
       "127                                                  0                                                                                                                                                                                                   \n",
       "141                                                  1                                                                                                                                                                                                   \n",
       "86                                                   0                                                                                                                                                                                                   \n",
       "94                                                   1                                                                                                                                                                                                   \n",
       "89                                                   1                                                                                                                                                                                                   \n",
       "81                                                   0                                                                                                                                                                                                   \n",
       "23                                                   0                                                                                                                                                                                                   \n",
       "138                                                  0                                                                                                                                                                                                   \n",
       "17                                                   1                                                                                                                                                                                                   \n",
       "47                                                   0                                                                                                                                                                                                   \n",
       "99                                                   0                                                                                                                                                                                                   \n",
       "30                                                   0                                                                                                                                                                                                   \n",
       "28                                                   0                                                                                                                                                                                                   \n",
       "80                                                   1                                                                                                                                                                                                   \n",
       "79                                                   0                                                                                                                                                                                                   \n",
       "\n",
       "      Age  \n",
       "127  30.0  \n",
       "141  33.0  \n",
       "86   41.0  \n",
       "94   22.0  \n",
       "89   36.0  \n",
       "81   43.0  \n",
       "23   33.0  \n",
       "138  44.0  \n",
       "17   34.0  \n",
       "47   32.0  \n",
       "99   44.0  \n",
       "30   46.0  \n",
       "28   23.0  \n",
       "80   32.0  \n",
       "79   26.0  "
      ]
     },
     "execution_count": 82,
     "metadata": {},
     "output_type": "execute_result"
    }
   ],
   "source": [
    "val_X"
   ]
  },
  {
   "cell_type": "code",
   "execution_count": null,
   "metadata": {},
   "outputs": [],
   "source": []
  }
 ],
 "metadata": {
  "kernelspec": {
   "display_name": "Python 3",
   "language": "python",
   "name": "python3"
  },
  "language_info": {
   "codemirror_mode": {
    "name": "ipython",
    "version": 3
   },
   "file_extension": ".py",
   "mimetype": "text/x-python",
   "name": "python",
   "nbconvert_exporter": "python",
   "pygments_lexer": "ipython3",
   "version": "3.8.3"
  }
 },
 "nbformat": 4,
 "nbformat_minor": 4
}
